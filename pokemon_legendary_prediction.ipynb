{
 "cells": [
  {
   "cell_type": "code",
   "execution_count": 13,
   "metadata": {
    "collapsed": false
   },
   "outputs": [
    {
     "name": "stdout",
     "output_type": "stream",
     "text": [
      "  Type 1  Total  HP  Attack  Defense  Sp. Atk  Sp. Def  Speed\n",
      "0  Grass    318  45      49       49       65       65     45\n",
      "1  Grass    405  60      62       63       80       80     60\n",
      "2  Grass    525  80      82       83      100      100     80\n",
      "3  Grass    625  80     100      123      122      120     80\n",
      "4   Fire    309  39      52       43       60       50     65\n",
      "0    False\n",
      "1    False\n",
      "2    False\n",
      "3    False\n",
      "4    False\n",
      "Name: Legendary, dtype: bool\n"
     ]
    }
   ],
   "source": [
    "#Lets look at some Pokemon data\n",
    "\n",
    "#We are going to see if we can predict the features that make a Pokemon legendary\n",
    "\n",
    "#imports\n",
    "import pandas as pd\n",
    "from sklearn.ensemble import ExtraTreesClassifier\n",
    "import numpy as np\n",
    "from sklearn.ensemble import GradientBoostingRegressor\n",
    "from sklearn import cross_validation, metrics, preprocessing\n",
    "\n",
    "#read data\n",
    "poke = pd.read_csv('Pokemon.csv')\n",
    "\n",
    "#Drop uninformative data\n",
    "poke.drop(['Name','#','Type 2'], axis=1, inplace = True)\n",
    "\n",
    "#Define X and y\n",
    "X = poke.iloc[:, 0:-2]\n",
    "y = poke.iloc[:, -1]\n",
    "\n",
    "#Lets look at out data\n",
    "print(X.iloc[:5,:])\n",
    "print(y[:5])"
   ]
  },
  {
   "cell_type": "code",
   "execution_count": 14,
   "metadata": {
    "collapsed": false
   },
   "outputs": [
    {
     "name": "stdout",
     "output_type": "stream",
     "text": [
      "[('Type 1', 0.071860120204286934), ('Total', 0.28168637357130188), ('HP', 0.10566742769394269), ('Attack', 0.09445743314720928), ('Defense', 0.068764349309550263), ('Sp. Atk', 0.15980761712799904), ('Sp. Def', 0.10654780661787291), ('Speed', 0.11120887232783702)]\n"
     ]
    }
   ],
   "source": [
    "#Make y data binary\n",
    "lb = preprocessing.LabelEncoder()\n",
    "y_bin = lb.fit_transform(y)\n",
    "\n",
    "\n",
    "#Handle non numeric data\n",
    "def handle_non_numeric_data(df):\n",
    "    columns = df.columns.values\n",
    "    for column in columns:\n",
    "        text_digit_vals = {}\n",
    "        def convert_to_int(val):\n",
    "            return text_digit_vals[val]\n",
    "\n",
    "        if df[column].dtype != np.int64 and df[column].dtype != np.float64:\n",
    "            column_contents = df[column].values.tolist()\n",
    "            unique_elements = set(column_contents)\n",
    "            x = 0\n",
    "            for unique in unique_elements:\n",
    "                if unique not in text_digit_vals:\n",
    "                    text_digit_vals[unique] = x\n",
    "                    x+=1\n",
    "\n",
    "            df[column] = list(map(convert_to_int, df[column]))\n",
    "\n",
    "    return df\n",
    "    \n",
    "X_new = handle_non_numeric_data(X)   \n",
    "\n",
    "\n",
    "#Build model\n",
    "model = ExtraTreesClassifier()\n",
    "model.fit(X_new, y_bin)\n",
    "\n",
    "#Find feature importances\n",
    "feat_imp = list(zip(X.columns.values, model.feature_importances_))\n",
    "feat_imp.sort(key = lambda x: int(x[1]))\n",
    "\n",
    "print(feat_imp)\n",
    "\n"
   ]
  },
  {
   "cell_type": "code",
   "execution_count": 15,
   "metadata": {
    "collapsed": false
   },
   "outputs": [],
   "source": [
    "# Interesting results, Total is obiously very predictive but Special attack is as well.\n"
   ]
  },
  {
   "cell_type": "code",
   "execution_count": null,
   "metadata": {
    "collapsed": true
   },
   "outputs": [],
   "source": []
  }
 ],
 "metadata": {
  "kernelspec": {
   "display_name": "Python [Root]",
   "language": "python",
   "name": "Python [Root]"
  },
  "language_info": {
   "codemirror_mode": {
    "name": "ipython",
    "version": 3
   },
   "file_extension": ".py",
   "mimetype": "text/x-python",
   "name": "python",
   "nbconvert_exporter": "python",
   "pygments_lexer": "ipython3",
   "version": "3.5.2"
  }
 },
 "nbformat": 4,
 "nbformat_minor": 0
}
