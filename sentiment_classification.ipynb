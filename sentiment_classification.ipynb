{
 "cells": [
  {
   "cell_type": "code",
   "execution_count": 12,
   "metadata": {
    "collapsed": false
   },
   "outputs": [
    {
     "name": "stdout",
     "output_type": "stream",
     "text": [
      "                                                   0\n",
      "0  the rock is destined to be the 21st century's ...\n",
      "1  the gorgeously elaborate continuation of \" the...\n",
      "2                     effective but too-tepid biopic\n",
      "3  if you sometimes like to go to the movies to h...\n",
      "4  emerges as something rare , an issue movie tha...\n",
      "                                                   0\n",
      "0                  simplistic , silly and tedious . \n",
      "1  it's so laddish and juvenile , only teenage bo...\n",
      "2  exploitative and largely devoid of the depth o...\n",
      "3  [garbus] discards the potential for pathologic...\n",
      "4  a visually flashy but narratively opaque and e...\n"
     ]
    }
   ],
   "source": [
    "#Lets look at some sentiment data\n",
    "\n",
    "\n",
    "#imports\n",
    "import pandas as pd\n",
    "from sklearn.ensemble import ExtraTreesClassifier\n",
    "import numpy as np\n",
    "from sklearn.feature_extraction.text import CountVectorizer \n",
    "from sklearn import cross_validation, metrics\n",
    "from sklearn.naive_bayes import MultinomialNB\n",
    "from sklearn.linear_model import SGDClassifier\n",
    "from sklearn.ensemble import BaggingClassifier\n",
    "from sklearn.neighbors import KNeighborsClassifier\n",
    "from sklearn.ensemble import RandomForestClassifier\n",
    "import matplotlib.pyplot as plt\n",
    "from matplotlib.pyplot import style\n",
    "\n",
    "style.use('fivethirtyeight')\n",
    "\n",
    "\n",
    "#We are going to be trying different classifiers to see what works best\n",
    "types = [MultinomialNB, SGDClassifier, BaggingClassifier, KNeighborsClassifier, RandomForestClassifier]\n",
    "lbls = ['MNB', 'SGDC', 'BC', 'KNC', 'RFC']\n",
    "\n",
    "\n",
    "#load data\n",
    "results = [];\n",
    "pos = pd.read_table('pos.txt', header = None)\n",
    "neg = pd.read_table('neg.txt', header = None)\n",
    "\n",
    "\n",
    "#Lets look at the data\n",
    "print(pos.head(5))\n",
    "print(neg.head(5))"
   ]
  },
  {
   "cell_type": "code",
   "execution_count": null,
   "metadata": {
    "collapsed": true
   },
   "outputs": [],
   "source": [
    "#So what we have here are snips of sentences that are either positive or negative"
   ]
  },
  {
   "cell_type": "code",
   "execution_count": 13,
   "metadata": {
    "collapsed": false
   },
   "outputs": [
    {
     "name": "stderr",
     "output_type": "stream",
     "text": [
      "/Users/nandanthor/anaconda/lib/python3.5/site-packages/sklearn/utils/validation.py:515: DataConversionWarning: A column-vector y was passed when a 1d array was expected. Please change the shape of y to (n_samples, ), for example using ravel().\n",
      "  y = column_or_1d(y, warn=True)\n",
      "/Users/nandanthor/anaconda/lib/python3.5/site-packages/sklearn/utils/validation.py:515: DataConversionWarning: A column-vector y was passed when a 1d array was expected. Please change the shape of y to (n_samples, ), for example using ravel().\n",
      "  y = column_or_1d(y, warn=True)\n",
      "/Users/nandanthor/anaconda/lib/python3.5/site-packages/sklearn/utils/validation.py:515: DataConversionWarning: A column-vector y was passed when a 1d array was expected. Please change the shape of y to (n_samples, ), for example using ravel().\n",
      "  y = column_or_1d(y, warn=True)\n",
      "/Users/nandanthor/anaconda/lib/python3.5/site-packages/ipykernel/__main__.py:20: DataConversionWarning: A column-vector y was passed when a 1d array was expected. Please change the shape of y to (n_samples, ), for example using ravel().\n",
      "/Users/nandanthor/anaconda/lib/python3.5/site-packages/ipykernel/__main__.py:20: DataConversionWarning: A column-vector y was passed when a 1d array was expected. Please change the shape of y to (n_samples,), for example using ravel().\n"
     ]
    },
    {
     "data": {
      "image/png": "[encoded data removed]",
      "text/plain": [
       "<matplotlib.figure.Figure at 0x11a9e7cf8>"
      ]
     },
     "metadata": {},
     "output_type": "display_data"
    },
    {
     "name": "stdout",
     "output_type": "stream",
     "text": [
      "[<class 'sklearn.naive_bayes.MultinomialNB'>, <class 'sklearn.linear_model.stochastic_gradient.SGDClassifier'>, <class 'sklearn.ensemble.bagging.BaggingClassifier'>, <class 'sklearn.neighbors.classification.KNeighborsClassifier'>, <class 'sklearn.ensemble.forest.RandomForestClassifier'>]\n"
     ]
    }
   ],
   "source": [
    "#Define our data\n",
    "X_ = pos.append(neg).reset_index()\n",
    "\n",
    "X = X_.iloc[:,1]\n",
    "\n",
    "y_1 = np.ones((pos.size, 1))\n",
    "y_2 = np.zeros((neg.size, 1))\n",
    "\n",
    "y = np.vstack([y_1, y_2]).astype('|S6')\n",
    "\n",
    "#Build our model\n",
    "X_train, X_test, y_train, y_test = cross_validation.train_test_split(X, y)\n",
    "vect = CountVectorizer()\n",
    "X_train_dtm = vect.fit_transform(X_train)\n",
    "X_test_dtm = vect.transform(X_test)\n",
    "\n",
    "#Run the different classifier\n",
    "for i in range(len(types)):\n",
    "    nb = types[i]()\n",
    "    nb.fit(X_train_dtm, y_train)\n",
    "    y_pred_class = nb.predict(X_test_dtm)\n",
    "    results.append(metrics.accuracy_score(y_test, y_pred_class))\n",
    "\n",
    "\n",
    "#Print results in bar graph\n",
    "types_ = list(types)\n",
    "\n",
    "%matplotlib inline\n",
    "\n",
    "ind = np.arange(len(results))\n",
    "width = 1\n",
    "\n",
    "plt.bar(ind+width, results)\n",
    "plt.xticks(range(len(types)), lbls)\n",
    "plt.show()\n",
    "print(types)\n",
    "\n",
    "#Ignore the warnings"
   ]
  },
  {
   "cell_type": "code",
   "execution_count": null,
   "metadata": {
    "collapsed": true
   },
   "outputs": [],
   "source": [
    "# Wow so multinomial NB performs the best\n",
    "\n",
    "# I'll come back to this to show how to see which words best indicated positive or negative sentiment."
   ]
  }
 ],
 "metadata": {
  "anaconda-cloud": {},
  "kernelspec": {
   "display_name": "Python [Root]",
   "language": "python",
   "name": "Python [Root]"
  },
  "language_info": {
   "codemirror_mode": {
    "name": "ipython",
    "version": 3
   },
   "file_extension": ".py",
   "mimetype": "text/x-python",
   "name": "python",
   "nbconvert_exporter": "python",
   "pygments_lexer": "ipython3",
   "version": "3.5.2"
  }
 },
 "nbformat": 4,
 "nbformat_minor": 0
}
