{
 "cells": [
  {
   "cell_type": "code",
   "execution_count": null,
   "metadata": {
    "collapsed": true
   },
   "outputs": [],
   "source": [
    "import tkinter as tk\n",
    "import time\n",
    "\n",
    "#Initialize\n",
    "root = tk.Tk()\n",
    "\n",
    "#Set size of window, in this case: 600 by 600 pixels\n",
    "canvas = tk.Canvas(root, width=600, height=600)\n",
    "canvas.pack()\n",
    "\n",
    "#Create center circle\n",
    "circ = canvas.create_oval(280, 280, 320, 320, fill = 'yellow')\n",
    "\n",
    "#Set speed in x and y direction\n",
    "x = 5\n",
    "y = 0\n",
    "\n",
    "#Only change \"range(29)\", if the window is resized from 600x600\" \n",
    "for i in range((29)):\n",
    "    #20 is the size of the rectangle\n",
    "    a = i*20\n",
    "    #Create the rectangle\n",
    "    rc1 = canvas.create_rectangle(-800, a, 0, a+20, outline='white', fill='black')\n",
    "    #125 is the length of time that the rectangle scrolls across the screen \n",
    "    for loops in range(125):\n",
    "         canvas.move(rc1, x, y)\n",
    "         #Change how long it takes to see the rectangle move\n",
    "         time.sleep(0.1)\n",
    "         canvas.grid()\n",
    "         canvas.update()\n",
    "    #Delete the current rectangle     \n",
    "    canvas.delete(rc1)\n",
    "        \n",
    "\n",
    "root.mainloop()"
   ]
  }
 ],
 "metadata": {
  "anaconda-cloud": {},
  "kernelspec": {
   "display_name": "Python [Root]",
   "language": "python",
   "name": "Python [Root]"
  },
  "language_info": {
   "codemirror_mode": {
    "name": "ipython",
    "version": 3
   },
   "file_extension": ".py",
   "mimetype": "text/x-python",
   "name": "python",
   "nbconvert_exporter": "python",
   "pygments_lexer": "ipython3",
   "version": "3.5.2"
  }
 },
 "nbformat": 4,
 "nbformat_minor": 0
}
