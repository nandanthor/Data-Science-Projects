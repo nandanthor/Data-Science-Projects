{
 "cells": [
  {
   "cell_type": "code",
   "execution_count": 5,
   "metadata": {
    "collapsed": false
   },
   "outputs": [
    {
     "name": "stdout",
     "output_type": "stream",
     "text": [
      "   Id       Name  Year Gender  Count\n",
      "0   1       Mary  1880      F   7065\n",
      "1   2       Anna  1880      F   2604\n",
      "2   3       Emma  1880      F   2003\n",
      "3   4  Elizabeth  1880      F   1939\n",
      "4   5     Minnie  1880      F   1746\n"
     ]
    }
   ],
   "source": [
    "#Imports\n",
    "import pandas as pd\n",
    "from sklearn import preprocessing, cross_validation, metrics\n",
    "from sklearn.feature_extraction.text import CountVectorizer \n",
    "from sklearn.naive_bayes import MultinomialNB\n",
    "import matplotlib.pyplot as plt\n",
    "from matplotlib.pyplot import style\n",
    "\n",
    "style.use('ggplot')\n",
    "\n",
    "#Read in data\n",
    "names = pd.read_csv('NationalNames.csv')\n",
    "\n",
    "#Print first 5 names\n",
    "print(names.head(5))\n",
    "\n",
    "#We see the most popular female names in 1880.  \n"
   ]
  },
  {
   "cell_type": "code",
   "execution_count": 12,
   "metadata": {
    "collapsed": false
   },
   "outputs": [
    {
     "name": "stdout",
     "output_type": "stream",
     "text": [
      "              Id       Name  Year Gender  Count\n",
      "1811456  1811457       Noah  2014      M  19144\n",
      "1811457  1811458       Liam  2014      M  18342\n",
      "1811458  1811459      Mason  2014      M  17092\n",
      "1811459  1811460      Jacob  2014      M  16712\n",
      "1811460  1811461    William  2014      M  16687\n",
      "1811461  1811462      Ethan  2014      M  15619\n",
      "1811462  1811463    Michael  2014      M  15323\n",
      "1811463  1811464  Alexander  2014      M  15293\n",
      "1811464  1811465      James  2014      M  14301\n",
      "1811465  1811466     Daniel  2014      M  13829\n"
     ]
    }
   ],
   "source": [
    "# Lets dive into some results.  Lets look at the most popular names in the most recent year.\n",
    "pop_name = []\n",
    "maxx = names[names.Year == 2014].sort_values('Count', ascending=False)\n",
    "\n",
    "# Print the 10 most popular male names in 2014\n",
    "print(maxx[maxx.Gender == 'M'].head(10))\n"
   ]
  },
  {
   "cell_type": "code",
   "execution_count": 13,
   "metadata": {
    "collapsed": false
   },
   "outputs": [
    {
     "name": "stdout",
     "output_type": "stream",
     "text": [
      "              Id         Name  Year Gender  Count\n",
      "1109624  1109625      Michael  1991      M  60781\n",
      "1109625  1109626  Christopher  1991      M  47099\n",
      "1109626  1109627      Matthew  1991      M  41633\n",
      "1109627  1109628       Joshua  1991      M  41217\n",
      "1109628  1109629       Andrew  1991      M  31524\n",
      "1109629  1109630       Daniel  1991      M  30909\n",
      "1109630  1109631        James  1991      M  30501\n",
      "1109631  1109632        David  1991      M  30414\n",
      "1109632  1109633       Joseph  1991      M  29835\n",
      "1109633  1109634         John  1991      M  27798\n"
     ]
    }
   ],
   "source": [
    "# These names are pretty strange, lets look at the most popular names in my birthyear: 1991\n",
    "pop_name = []\n",
    "maxx = names[names.Year == 1991].sort_values('Count', ascending=False)\n",
    "\n",
    "# Print the 10 most popular male names in 2014\n",
    "print(maxx[maxx.Gender == 'M'].head(10))"
   ]
  },
  {
   "cell_type": "code",
   "execution_count": null,
   "metadata": {
    "collapsed": true
   },
   "outputs": [],
   "source": [
    "# Interesting, these names look a lot more familiar.  Go ahead and play with the script above by changing \n",
    "#the year to your birth year and to your gender."
   ]
  },
  {
   "cell_type": "code",
   "execution_count": 14,
   "metadata": {
    "collapsed": false
   },
   "outputs": [
    {
     "name": "stdout",
     "output_type": "stream",
     "text": [
      "James\n",
      "[(1940, 'James'), (1941, 'James'), (1942, 'James'), (1943, 'James'), (1944, 'James'), (1945, 'James'), (1946, 'James'), (1947, 'Linda'), (1948, 'Linda'), (1949, 'Linda'), (1950, 'James'), (1951, 'James'), (1952, 'James'), (1953, 'Robert'), (1954, 'Michael'), (1955, 'Michael'), (1956, 'Michael'), (1957, 'Michael'), (1958, 'Michael'), (1959, 'Michael'), (1960, 'David'), (1961, 'Michael'), (1962, 'Michael'), (1963, 'Michael'), (1964, 'Michael'), (1965, 'Michael'), (1966, 'Michael'), (1967, 'Michael'), (1968, 'Michael'), (1969, 'Michael'), (1970, 'Michael'), (1971, 'Michael'), (1972, 'Michael'), (1973, 'Michael'), (1974, 'Michael'), (1975, 'Michael'), (1976, 'Michael'), (1977, 'Michael'), (1978, 'Michael'), (1979, 'Michael'), (1980, 'Michael'), (1981, 'Michael'), (1982, 'Michael'), (1983, 'Michael'), (1984, 'Michael'), (1985, 'Michael'), (1986, 'Michael'), (1987, 'Michael'), (1988, 'Michael'), (1989, 'Michael'), (1990, 'Michael'), (1991, 'Michael'), (1992, 'Michael'), (1993, 'Michael'), (1994, 'Michael'), (1995, 'Michael'), (1996, 'Michael'), (1997, 'Michael'), (1998, 'Michael'), (1999, 'Jacob'), (2000, 'Jacob'), (2001, 'Jacob'), (2002, 'Jacob'), (2003, 'Jacob'), (2004, 'Jacob'), (2005, 'Jacob'), (2006, 'Jacob'), (2007, 'Jacob'), (2008, 'Jacob'), (2009, 'Isabella'), (2010, 'Isabella'), (2011, 'Sophia'), (2012, 'Sophia'), (2013, 'Sophia'), (2014, 'Emma')]\n"
     ]
    }
   ],
   "source": [
    "#Find the most popular name each year\n",
    "\n",
    "for i in range(1940, 2015):\n",
    "    maxx = names[names.Year == i].sort_values('Count', ascending=False)\n",
    "    maxx = maxx.reset_index()\n",
    "    pop_name.append(maxx.Name[0])\n",
    "#    \n",
    "print(pop_name[10])\n",
    "\n",
    "#Print a list of the most popular name each year\n",
    "print(list(zip(range(1940,2015), pop_name)))\n",
    "\n"
   ]
  },
  {
   "cell_type": "code",
   "execution_count": 15,
   "metadata": {
    "collapsed": false
   },
   "outputs": [
    {
     "data": {
      "image/png": "[encoded data removed]",
      "text/plain": [
       "<matplotlib.figure.Figure at 0x127fddd30>"
      ]
     },
     "metadata": {},
     "output_type": "display_data"
    }
   ],
   "source": [
    "#How popular is my name? Lets graph it and see!\n",
    "names_m = names[(names.Name == 'Nandan') & (names.Gender == 'M')]\n",
    "names_f = names[(names.Name == 'Nandan') & (names.Gender == 'F')]\n",
    "\n",
    "%matplotlib inline\n",
    "\n",
    "plt.plot(names_m.Year, names_m.Count)\n",
    "plt.plot(names_f.Year, names_f.Count)\n",
    "plt.show()"
   ]
  },
  {
   "cell_type": "code",
   "execution_count": 16,
   "metadata": {
    "collapsed": false
   },
   "outputs": [
    {
     "data": {
      "image/png": "[encoded data removed]",
      "text/plain": [
       "<matplotlib.figure.Figure at 0x127fdd0b8>"
      ]
     },
     "metadata": {},
     "output_type": "display_data"
    }
   ],
   "source": [
    "#Not that popular, obviously.  Lets look at the most popular name of my birthyear: Michael.\n",
    "names_m = names[(names.Name == 'Michael') & (names.Gender == 'M')]\n",
    "names_f = names[(names.Name == 'MIchael') & (names.Gender == 'F')]\n",
    "\n",
    "%matplotlib inline\n",
    "\n",
    "plt.plot(names_m.Year, names_m.Count)\n",
    "plt.plot(names_f.Year, names_f.Count)\n",
    "plt.show()\n"
   ]
  },
  {
   "cell_type": "code",
   "execution_count": null,
   "metadata": {
    "collapsed": true
   },
   "outputs": [],
   "source": [
    "#Cool! Change 'Michael' to your name and see the relevance over the years."
   ]
  },
  {
   "cell_type": "code",
   "execution_count": 17,
   "metadata": {
    "collapsed": false
   },
   "outputs": [
    {
     "data": {
      "image/png": "[encoded data removed]",
      "text/plain": [
       "<matplotlib.figure.Figure at 0x118780cf8>"
      ]
     },
     "metadata": {},
     "output_type": "display_data"
    }
   ],
   "source": [
    "#Lets now choose a more gender neutral name and see how the male and female incidence varies over time:\n",
    "names_m = names[(names.Name == 'Taylor') & (names.Gender == 'M')]\n",
    "names_f = names[(names.Name == 'Taylor') & (names.Gender == 'F')]\n",
    "\n",
    "%matplotlib inline\n",
    "\n",
    "plt.plot(names_m.Year, names_m.Count)\n",
    "plt.plot(names_f.Year, names_f.Count)\n",
    "plt.show()"
   ]
  },
  {
   "cell_type": "code",
   "execution_count": null,
   "metadata": {
    "collapsed": true
   },
   "outputs": [],
   "source": []
  }
 ],
 "metadata": {
  "anaconda-cloud": {},
  "kernelspec": {
   "display_name": "Python [Root]",
   "language": "python",
   "name": "Python [Root]"
  },
  "language_info": {
   "codemirror_mode": {
    "name": "ipython",
    "version": 3
   },
   "file_extension": ".py",
   "mimetype": "text/x-python",
   "name": "python",
   "nbconvert_exporter": "python",
   "pygments_lexer": "ipython3",
   "version": "3.5.2"
  }
 },
 "nbformat": 4,
 "nbformat_minor": 0
}
