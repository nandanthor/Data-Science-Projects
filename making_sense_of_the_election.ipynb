{
 "cells": [
  {
   "cell_type": "code",
   "execution_count": 1,
   "metadata": {
    "collapsed": false
   },
   "outputs": [
    {
     "name": "stdout",
     "output_type": "stream",
     "text": [
      "[('forecastdate', 0.0), ('type', 0.0040756130512189914), ('adjpoll_mcmullin', 0.0074800480680851334), ('population', 0.0074884658693122582), ('enddate', 0.012977118699539412), ('rawpoll_johnson', 0.01304300105574314), ('pollster', 0.01326790820997957), ('poll_wt', 0.014758431494943344), ('grade', 0.01802481853526328), ('adjpoll_johnson', 0.018551597009249601), ('question_id', 0.02149838301355058), ('samplesize', 0.021963938067728839), ('state', 0.042788153701558841), ('rawpoll_trump', 0.14266915588863138), ('adjpoll_clinton', 0.17455748424585993), ('rawpoll_clinton', 0.19699376144091721), ('adjpoll_trump', 0.28986212164841851)]\n"
     ]
    }
   ],
   "source": [
    "#Lets look at some election data!\n",
    "\n",
    "#imports\n",
    "import numpy as np\n",
    "import pandas as pd\n",
    "from sklearn.ensemble import ExtraTreesClassifier\n",
    "from sklearn import cross_validation, metrics, preprocessing\n",
    "from sklearn.naive_bayes import MultinomialNB\n",
    "from sklearn import svm\n",
    "from sklearn.tree import DecisionTreeClassifier\n",
    "from sklearn.ensemble import RandomForestClassifier, AdaBoostClassifier\n",
    "import matplotlib.pyplot as plt\n",
    "from matplotlib.pyplot import style\n",
    "\n",
    "style.use('ggplot')\n",
    "\n",
    "#Read in data\n",
    "polls = pd.read_csv('presidential_polls.csv')\n",
    "\n",
    "#Drop data based on feature importances - below\n",
    "polls.drop(['cycle', 'branch', 'timestamp', 'url', 'multiversions', 'startdate', 'matchup', 'rawpoll_mcmullin', 'poll_id', 'createddate'], axis = 1, inplace = True)\n",
    "\n",
    "#Replace NaN with -99999\n",
    "polls.fillna(value = -99999, axis = 1, inplace = True)\n",
    "\n",
    "#Quick function to turn non-numeric data to numeric - expanded (non-binary) one-hot encoder\n",
    "def handle_non_numeric_data(df):\n",
    "    columns = df.columns.values\n",
    "    for column in columns:\n",
    "        text_digit_vals = {}\n",
    "        def convert_to_int(val):\n",
    "            return text_digit_vals[val]\n",
    "\n",
    "        if df[column].dtype != np.int64 and df[column].dtype != np.float64:\n",
    "            column_contents = df[column].values.tolist()\n",
    "            unique_elements = set(column_contents)\n",
    "            x = 0\n",
    "            for unique in unique_elements:\n",
    "                if unique not in text_digit_vals:\n",
    "                    text_digit_vals[unique] = x\n",
    "                    x+=1\n",
    "\n",
    "            df[column] = list(map(convert_to_int, df[column]))\n",
    "\n",
    "    return df\n",
    "\n",
    "data = handle_non_numeric_data(polls)\n",
    "\n",
    "#Instantiate\n",
    "y_vect = []\n",
    "\n",
    "#Build y vector: 1 (correct), if predicted Trump, 0 if Clinton\n",
    "for i in range(polls.shape[0]):\n",
    "    if polls.adjpoll_clinton[i] > polls.adjpoll_trump[i]:\n",
    "        y_vect.append(0)\n",
    "    else:\n",
    "        y_vect.append(1)\n",
    "        \n",
    "#Define X and y        \n",
    "X = data\n",
    "y = y_vect\n",
    "\n",
    "#Instantiate and fit model for feature importances\n",
    "model = ExtraTreesClassifier()\n",
    "model.fit(X, y)\n",
    "\n",
    "#Show sorted feature importances\n",
    "feat_imp = list(zip(X.columns.values, model.feature_importances_))\n",
    "feat_imp.sort(key=lambda x: x[1])\n",
    "\n",
    "print(feat_imp)\n",
    "\n"
   ]
  },
  {
   "cell_type": "code",
   "execution_count": null,
   "metadata": {
    "collapsed": true
   },
   "outputs": [],
   "source": [
    "# So what did we just do?\n",
    "# Preprocessed the data, then, we found the most important features that predicted the winner\n",
    "# The most important features are the polls, no surprise there"
   ]
  },
  {
   "cell_type": "code",
   "execution_count": 2,
   "metadata": {
    "collapsed": false
   },
   "outputs": [
    {
     "name": "stdout",
     "output_type": "stream",
     "text": [
      "0.992575224697\n"
     ]
    }
   ],
   "source": [
    "#Lets build a model\n",
    "\n",
    "#Split data into training dataset and testing dataset\n",
    "X_train, X_test, y_train, y_test = cross_validation.train_test_split(X, y)\n",
    "\n",
    "#Instantiate, fit and predict classification model\n",
    "dt = DecisionTreeClassifier()\n",
    "\n",
    "dt.fit(X_train, y_train)\n",
    "#\n",
    "y_pred_class = dt.predict(X_test)\n",
    "\n",
    "#Compare predicted classifications to actual classifications\n",
    "print(metrics.accuracy_score(y_test, y_pred_class))\n"
   ]
  },
  {
   "cell_type": "code",
   "execution_count": null,
   "metadata": {
    "collapsed": true
   },
   "outputs": [],
   "source": [
    "#Wow! 99% accuracy, I guess hindsight is 20/20"
   ]
  },
  {
   "cell_type": "code",
   "execution_count": 5,
   "metadata": {
    "collapsed": false
   },
   "outputs": [
    {
     "data": {
      "image/png": "[encoded data removed]",
      "text/plain": [
       "<matplotlib.figure.Figure at 0x1180b73c8>"
      ]
     },
     "metadata": {},
     "output_type": "display_data"
    }
   ],
   "source": [
    "#Hard to see but lets plot feature importances as a bar graph\n",
    "\n",
    "sorted_feat_imp = [x[1] for x in feat_imp]\n",
    "\n",
    "ind = np.arange(len(feat_imp))\n",
    "width = 1\n",
    "\n",
    "%matplotlib inline\n",
    "#Plot feature importances in bar graph\n",
    "plt.bar(ind+width, sorted_feat_imp)\n",
    "plt.xticks(range(len(feat_imp)), polls.columns.values)\n",
    "plt.show()"
   ]
  },
  {
   "cell_type": "code",
   "execution_count": 7,
   "metadata": {
    "collapsed": false
   },
   "outputs": [
    {
     "name": "stdout",
     "output_type": "stream",
     "text": [
      "0.986322782337\n"
     ]
    }
   ],
   "source": [
    "#You know, there was a lot of talk of the silent majority - let's see what happens when we remove \n",
    "#the trump polls\n",
    "\n",
    "polls = pd.read_csv('presidential_polls.csv')\n",
    "#Drop data based on feature importances - below and now drop trump\n",
    "polls.drop(['rawpoll_trump','adjpoll_trump','cycle', 'branch', 'timestamp', 'url', 'multiversions', 'startdate', 'matchup', 'rawpoll_mcmullin', 'poll_id', 'createddate'], axis = 1, inplace = True)\n",
    "\n",
    "#Replace NaN with -99999\n",
    "polls.fillna(value = -99999, axis = 1, inplace = True)\n",
    "data_1 = handle_non_numeric_data(polls)\n",
    "\n",
    "#Redefine X\n",
    "X = data\n",
    "#y is the same\n",
    "\n",
    "#Split data into training dataset and testing dataset\n",
    "X_train, X_test, y_train, y_test = cross_validation.train_test_split(X, y)\n",
    "\n",
    "#Instantiate, fit and predict classification model\n",
    "dt = DecisionTreeClassifier()\n",
    "dt.fit(X_train, y_train)\n",
    "y_pred_class = dt.predict(X_test)\n",
    "\n",
    "#Compare predicted classifications to actual classifications\n",
    "print(metrics.accuracy_score(y_test, y_pred_class))"
   ]
  },
  {
   "cell_type": "code",
   "execution_count": null,
   "metadata": {
    "collapsed": true
   },
   "outputs": [],
   "source": [
    "#Hmm not much of a decline in accuracy"
   ]
  },
  {
   "cell_type": "code",
   "execution_count": 11,
   "metadata": {
    "collapsed": false
   },
   "outputs": [
    {
     "name": "stdout",
     "output_type": "stream",
     "text": [
      "0.962202136401\n"
     ]
    }
   ],
   "source": [
    "#Lets see how well the last 9500 polls predicted the most recent 500 polls\n",
    "\n",
    "X_train = X.iloc[:500, :]\n",
    "X_test= X.iloc[500:, :]\n",
    "y_train = y[:500]\n",
    "y_test = y[500:]\n",
    "dt = DecisionTreeClassifier()\n",
    "dt.fit(X_train, y_train)\n",
    "y_pred_class = dt.predict(X_test)\n",
    "\n",
    "#Compare predicted classifications to actual classifications\n",
    "print(metrics.accuracy_score(y_test, y_pred_class))"
   ]
  },
  {
   "cell_type": "code",
   "execution_count": 10,
   "metadata": {
    "collapsed": true
   },
   "outputs": [],
   "source": [
    "#Still great but not as good."
   ]
  },
  {
   "cell_type": "code",
   "execution_count": null,
   "metadata": {
    "collapsed": true
   },
   "outputs": [],
   "source": [
    "#In this election, it was all about the very, very thin margin\n",
    "#I'll leave it at this for now but as more detailed data comes in, maybe we can make more sense of it."
   ]
  }
 ],
 "metadata": {
  "kernelspec": {
   "display_name": "Python [Root]",
   "language": "python",
   "name": "Python [Root]"
  },
  "language_info": {
   "codemirror_mode": {
    "name": "ipython",
    "version": 3
   },
   "file_extension": ".py",
   "mimetype": "text/x-python",
   "name": "python",
   "nbconvert_exporter": "python",
   "pygments_lexer": "ipython3",
   "version": "3.5.2"
  }
 },
 "nbformat": 4,
 "nbformat_minor": 0
}
