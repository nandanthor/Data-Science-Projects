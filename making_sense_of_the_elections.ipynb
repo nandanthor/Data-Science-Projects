{
 "cells": [
  {
   "cell_type": "code",
   "execution_count": 1,
   "metadata": {
    "collapsed": false
   },
   "outputs": [
    {
     "name": "stdout",
     "output_type": "stream",
     "text": [
      "         type forecastdate     state     enddate                  pollster  \\\n",
      "0  polls-plus      11/1/16      U.S.  10/31/2016   Google Consumer Surveys   \n",
      "1  polls-plus      11/1/16      U.S.  10/30/2016  ABC News/Washington Post   \n",
      "2  polls-plus      11/1/16  Virginia  10/30/2016  ABC News/Washington Post   \n",
      "3  polls-plus      11/1/16   Florida  10/24/2016                 SurveyUSA   \n",
      "4  polls-plus      11/1/16      U.S.  10/25/2016       Pew Research Center   \n",
      "\n",
      "  grade  samplesize population   poll_wt  rawpoll_clinton  rawpoll_trump  \\\n",
      "0     B     24316.0         lv  6.139129            37.69          35.07   \n",
      "1    A+      1128.0         lv  4.197292            45.00          46.00   \n",
      "2    A+      1024.0         lv  3.876856            48.00          42.00   \n",
      "3     A      1251.0         lv  3.403096            48.00          45.00   \n",
      "4    B+      2120.0         rv  3.394646            46.00          40.00   \n",
      "\n",
      "   rawpoll_johnson  adjpoll_clinton  adjpoll_trump  adjpoll_johnson  \\\n",
      "0             6.18         42.64140       40.86509         5.675099   \n",
      "1             3.00         43.29659       44.72984         3.401513   \n",
      "2             6.00         46.29779       40.72604         6.401513   \n",
      "3             2.00         46.35931       45.30585         1.777730   \n",
      "4             6.00         45.32744       42.20888         3.618320   \n",
      "\n",
      "   adjpoll_mcmullin  question_id  \n",
      "0          -99999.0        74999  \n",
      "1          -99999.0        74936  \n",
      "2          -99999.0        74934  \n",
      "3          -99999.0        74252  \n",
      "4          -99999.0        74519  \n"
     ]
    }
   ],
   "source": [
    "#Lets look at some election data!\n",
    "\n",
    "#imports\n",
    "import numpy as np\n",
    "import pandas as pd\n",
    "from sklearn.ensemble import ExtraTreesClassifier\n",
    "from sklearn import cross_validation, metrics, preprocessing\n",
    "from sklearn.naive_bayes import MultinomialNB\n",
    "from sklearn import svm\n",
    "from sklearn.tree import DecisionTreeClassifier\n",
    "from sklearn.ensemble import RandomForestClassifier, AdaBoostClassifier\n",
    "import matplotlib.pyplot as plt\n",
    "from matplotlib.pyplot import style\n",
    "\n",
    "style.use('ggplot')\n",
    "\n",
    "#Read in data\n",
    "polls = pd.read_csv('presidential_polls.csv')\n",
    "\n",
    "#Drop data based on feature importances - below\n",
    "polls.drop(['cycle', 'branch', 'timestamp', 'url', 'multiversions', 'startdate', 'matchup', 'rawpoll_mcmullin', 'poll_id', 'createddate'], axis = 1, inplace = True)\n",
    "\n",
    "#Replace NaN with -99999\n",
    "polls.fillna(value = -99999, axis = 1, inplace = True)\n",
    "\n",
    "print(polls.head(5))"
   ]
  },
  {
   "cell_type": "code",
   "execution_count": 2,
   "metadata": {
    "collapsed": false
   },
   "outputs": [
    {
     "name": "stdout",
     "output_type": "stream",
     "text": [
      "[('forecastdate', 0.0), ('type', 0.00087831090745094792), ('adjpoll_mcmullin', 0.0062821470689903179), ('population', 0.0071213911375552098), ('poll_wt', 0.011940948011578962), ('enddate', 0.014973643552564217), ('adjpoll_johnson', 0.016665357891381162), ('rawpoll_johnson', 0.018299871113527204), ('grade', 0.020751051006076347), ('question_id', 0.022679626685322786), ('pollster', 0.025469274382001354), ('samplesize', 0.029336620599590007), ('state', 0.054154148206761024), ('rawpoll_trump', 0.14886933443919478), ('rawpoll_clinton', 0.17559310759519775), ('adjpoll_trump', 0.2162832918801684), ('adjpoll_clinton', 0.23070187552263949)]\n"
     ]
    }
   ],
   "source": [
    "#Lets preprocess the data and see what is the most important predictor of election results\n",
    "\n",
    "#Quick function to turn non-numeric data to numeric - expanded (non-binary) one-hot encoder\n",
    "def handle_non_numeric_data(df):\n",
    "    columns = df.columns.values\n",
    "    for column in columns:\n",
    "        text_digit_vals = {}\n",
    "        def convert_to_int(val):\n",
    "            return text_digit_vals[val]\n",
    "\n",
    "        if df[column].dtype != np.int64 and df[column].dtype != np.float64:\n",
    "            column_contents = df[column].values.tolist()\n",
    "            unique_elements = set(column_contents)\n",
    "            x = 0\n",
    "            for unique in unique_elements:\n",
    "                if unique not in text_digit_vals:\n",
    "                    text_digit_vals[unique] = x\n",
    "                    x+=1\n",
    "\n",
    "            df[column] = list(map(convert_to_int, df[column]))\n",
    "\n",
    "    return df\n",
    "\n",
    "data = handle_non_numeric_data(polls)\n",
    "\n",
    "#Instantiate\n",
    "y_vect = []\n",
    "\n",
    "#Build y vector: 1 (correct), if predicted Trump, 0 if Clinton\n",
    "for i in range(polls.shape[0]):\n",
    "    if polls.adjpoll_clinton[i] > polls.adjpoll_trump[i] or polls.rawpoll_clinton[i] > polls.rawpoll_trump[i]:\n",
    "        y_vect.append(0)\n",
    "    else:\n",
    "        y_vect.append(1)\n",
    "        \n",
    "#Define X and y        \n",
    "X = data\n",
    "y = y_vect\n",
    "\n",
    "#Instantiate and fit model for feature importances\n",
    "model = ExtraTreesClassifier()\n",
    "model.fit(X, y)\n",
    "\n",
    "#Show sorted feature importances\n",
    "feat_imp = list(zip(X.columns.values, model.feature_importances_))\n",
    "feat_imp.sort(key=lambda x: x[1])\n",
    "\n",
    "print(feat_imp)"
   ]
  },
  {
   "cell_type": "code",
   "execution_count": null,
   "metadata": {
    "collapsed": true
   },
   "outputs": [],
   "source": [
    "# So what did we just do?\n",
    "# Preprocessed the data, then, we found the most important features that predicted the winner\n",
    "# The most important features are the polls, no surprise there"
   ]
  },
  {
   "cell_type": "code",
   "execution_count": 4,
   "metadata": {
    "collapsed": false
   },
   "outputs": [
    {
     "name": "stdout",
     "output_type": "stream",
     "text": [
      "0.99218444705\n"
     ]
    }
   ],
   "source": [
    "#Lets build a model\n",
    "\n",
    "#Split data into training dataset and testing dataset\n",
    "X_train, X_test, y_train, y_test = cross_validation.train_test_split(X, y)\n",
    "\n",
    "#Instantiate, fit and predict classification model\n",
    "dt = DecisionTreeClassifier()\n",
    "\n",
    "dt.fit(X_train, y_train)\n",
    "#\n",
    "y_pred_class = dt.predict(X_test)\n",
    "\n",
    "#Compare predicted classifications to actual classifications\n",
    "print(metrics.accuracy_score(y_test, y_pred_class))\n"
   ]
  },
  {
   "cell_type": "code",
   "execution_count": null,
   "metadata": {
    "collapsed": true
   },
   "outputs": [],
   "source": [
    "#Wow! 99% accuracy using this data to predict the election winner, I guess hindsight is 20/20"
   ]
  },
  {
   "cell_type": "code",
   "execution_count": 25,
   "metadata": {
    "collapsed": false
   },
   "outputs": [
    {
     "data": {
      "image/png": "[encoded data removed]",
      "text/plain": [
       "<matplotlib.figure.Figure at 0x1181c2c50>"
      ]
     },
     "metadata": {},
     "output_type": "display_data"
    }
   ],
   "source": [
    "#Hard to see but lets plot feature importances as a bar graph\n",
    "\n",
    "sorted_feat_imp = [x[1] for x in feat_imp]\n",
    "\n",
    "ind = np.arange(len(feat_imp))\n",
    "width = 1\n",
    "\n",
    "%matplotlib inline\n",
    "#Plot feature importances in bar graph\n",
    "plt.bar(ind+width, sorted_feat_imp)\n",
    "plt.xticks(range(len(feat_imp)), polls.columns.values)\n",
    "plt.show()"
   ]
  },
  {
   "cell_type": "code",
   "execution_count": 12,
   "metadata": {
    "collapsed": false
   },
   "outputs": [
    {
     "name": "stdout",
     "output_type": "stream",
     "text": [
      "0.971082454084\n"
     ]
    }
   ],
   "source": [
    "#You know, there was a lot of talk of the 'silent majority' - let's see what happens when we remove \n",
    "#the trump polls\n",
    "\n",
    "polls = pd.read_csv('presidential_polls.csv')\n",
    "#Drop data based on feature importances - below and now drop trump\n",
    "polls.drop(['rawpoll_trump','adjpoll_trump','cycle', 'branch', 'timestamp', 'url', 'multiversions', 'startdate', 'matchup', 'rawpoll_mcmullin', 'poll_id', 'createddate'], axis = 1, inplace = True)\n",
    "\n",
    "#Replace NaN with -99999\n",
    "polls.fillna(value = -99999, axis = 1, inplace = True)\n",
    "data_1 = handle_non_numeric_data(polls)\n",
    "\n",
    "#Redefine X\n",
    "X = data_1\n",
    "#y is the same\n",
    "\n",
    "#Split data into training dataset and testing dataset\n",
    "X_train, X_test, y_train, y_test = cross_validation.train_test_split(X, y)\n",
    "\n",
    "#Instantiate, fit and predict classification model\n",
    "dt = DecisionTreeClassifier()\n",
    "dt.fit(X_train, y_train)\n",
    "y_pred_class = dt.predict(X_test)\n",
    "\n",
    "#Compare predicted classifications to actual classifications\n",
    "print(metrics.accuracy_score(y_test, y_pred_class))"
   ]
  },
  {
   "cell_type": "code",
   "execution_count": 29,
   "metadata": {
    "collapsed": true
   },
   "outputs": [],
   "source": [
    "#Hmm not much of a decline in accuracy - around 97%."
   ]
  },
  {
   "cell_type": "code",
   "execution_count": 48,
   "metadata": {
    "collapsed": false
   },
   "outputs": [
    {
     "name": "stdout",
     "output_type": "stream",
     "text": [
      "0.805361544782\n"
     ]
    }
   ],
   "source": [
    "#Lets see how well the last 9500 polls predicted the most recent 500 polls\n",
    "\n",
    "X_train = X.iloc[500:, :]\n",
    "X_test= X.iloc[:500, :]\n",
    "y_train = y[500:]\n",
    "y_test = y[:500]\n",
    "dt = DecisionTreeClassifier()\n",
    "dt.fit(X_train, y_train)\n",
    "y_pred_class = dt.predict(X_test)\n",
    "\n",
    "#Compare predicted classifications to actual classifications\n",
    "print(metrics.accuracy_score(y_test, y_pred_class))"
   ]
  },
  {
   "cell_type": "code",
   "execution_count": 14,
   "metadata": {
    "collapsed": true
   },
   "outputs": [],
   "source": [
    "#We've dropped from 95% accuracy to 80%, if we consider the \"silent majority\" and use the historic data as \n",
    "#training data and test on the most recent data."
   ]
  },
  {
   "cell_type": "code",
   "execution_count": 50,
   "metadata": {
    "collapsed": false
   },
   "outputs": [
    {
     "name": "stdout",
     "output_type": "stream",
     "text": [
      "0.576065509077\n"
     ]
    }
   ],
   "source": [
    "# What if we look closer in time? Let's use the last 9900 data points to predict the most recent 100\n",
    "\n",
    "X_train = X.iloc[100:, :]\n",
    "X_test= X.iloc[:100, :]\n",
    "y_train = y[100:]\n",
    "y_test = y[:100]\n",
    "dt = DecisionTreeClassifier()\n",
    "dt.fit(X_train, y_train)\n",
    "y_pred_class = dt.predict(X_test)\n",
    "\n",
    "#Compare predicted classifications to actual classifications\n",
    "print(metrics.accuracy_score(y_test, y_pred_class))"
   ]
  },
  {
   "cell_type": "code",
   "execution_count": null,
   "metadata": {
    "collapsed": true
   },
   "outputs": [],
   "source": [
    "# Woah! Now we are down to 55% accuracy.  (Even though we trained on more data, so we should have a better model)\n",
    "\n",
    "# This has certainly been an unpredictable election - and the most recent trends certainly changed from historical data "
   ]
  },
  {
   "cell_type": "code",
   "execution_count": null,
   "metadata": {
    "collapsed": true
   },
   "outputs": [],
   "source": [
    "#In this election, it was all about the very, very thin margin and not relying on historical data.\n",
    "\n",
    "#Losing the Trump poll data didn't change too much but using older data to predict new data changed a lot!\n",
    "\n",
    "#I'll leave it at this for now but as more detailed data comes in, maybe we can make more sense of it."
   ]
  }
 ],
 "metadata": {
  "anaconda-cloud": {},
  "kernelspec": {
   "display_name": "Python [Root]",
   "language": "python",
   "name": "Python [Root]"
  },
  "language_info": {
   "codemirror_mode": {
    "name": "ipython",
    "version": 3
   },
   "file_extension": ".py",
   "mimetype": "text/x-python",
   "name": "python",
   "nbconvert_exporter": "python",
   "pygments_lexer": "ipython3",
   "version": "3.5.2"
  }
 },
 "nbformat": 4,
 "nbformat_minor": 0
}
