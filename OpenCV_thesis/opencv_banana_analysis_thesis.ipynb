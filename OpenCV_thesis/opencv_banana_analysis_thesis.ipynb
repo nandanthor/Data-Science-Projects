{
 "cells": [
  {
   "cell_type": "code",
   "execution_count": 2,
   "metadata": {
    "collapsed": false
   },
   "outputs": [
    {
     "name": "stdout",
     "output_type": "stream",
     "text": [
      "[[104 200  97]\n",
      " [105 197  96]\n",
      " [104 199  96]\n",
      " [106 191  95]\n",
      " [105 191  96]]\n"
     ]
    }
   ],
   "source": [
    "#openCV for finding the average hue of bananas for master's thesis\n",
    "\n",
    "\n",
    "#imports\n",
    "import cv2\n",
    "import numpy as np\n",
    "import matplotlib.pyplot as plt\n",
    "import os\n",
    "from os import listdir\n",
    "\n",
    "#This was used for batch processing, disregard\n",
    "files = os.listdir('.')\n",
    "for i in range(len(files)):\n",
    "    pass\n",
    "\n",
    "\n",
    "#Using off the shelf classifier by mrnugget\n",
    "banana_cascade = cv2.CascadeClassifier('banana_classifier.xml')\n",
    "\n",
    "#read in image\n",
    "old_img = cv2.imread('7-3.jpg', cv2.IMREAD_COLOR)\n",
    "img = cv2.resize(old_img, (0,0), fx=0.2, fy=0.2)\n",
    "\n",
    "#convert to grayscale\n",
    "gray = cv2.cvtColor(img, cv2.COLOR_BGR2GRAY)\n",
    "\n",
    "#start cascade\n",
    "bans = banana_cascade.detectMultiScale(img, minSize = (3,3))\n",
    "#find and draw boundaries of found banana\n",
    "for (x, y, w, h) in bans:\n",
    "    cv2.rectangle(img, (x,y), (x+w, y+h), (0,0,0), 2)\n",
    "    roi_gray = gray[y:y+h, x:x+w]\n",
    "    roi_color = img[y:y+h, x:x+w]\n",
    "\n",
    "#convert image to hsv\n",
    "hsv = cv2.cvtColor(img, cv2.COLOR_BGR2HSV)\n",
    "\n",
    "#define roi based on classified banana\n",
    "roi = hsv[x:x+w, y:y+h]\n",
    "\n",
    "print(roi[0][0:5])"
   ]
  },
  {
   "cell_type": "code",
   "execution_count": null,
   "metadata": {
    "collapsed": true
   },
   "outputs": [],
   "source": [
    "#We can see the HSV values for the first five pixels"
   ]
  },
  {
   "cell_type": "code",
   "execution_count": 3,
   "metadata": {
    "collapsed": false
   },
   "outputs": [
    {
     "name": "stdout",
     "output_type": "stream",
     "text": [
      "16.8041178153\n"
     ]
    }
   ],
   "source": [
    "#We have all that we want, lets find the average hue for these pixels\n",
    "\n",
    "temp = []\n",
    "for list in roi:\n",
    "    for number in list:\n",
    "        for x in number:\n",
    "            temp.append(x)\n",
    "\n",
    "hues = []\n",
    "for i in range(0, len(temp),3):\n",
    "    if temp[i] > 5 and temp[i] < 50:\n",
    "        hues.append(temp[i])\n",
    "\n",
    "print(sum(hues) / len(hues))"
   ]
  },
  {
   "cell_type": "code",
   "execution_count": null,
   "metadata": {
    "collapsed": true
   },
   "outputs": [],
   "source": [
    "#We have an avg hueof 16.8, which is what we would expect.  A less ripe banana will \n",
    "#have a higher hue"
   ]
  }
 ],
 "metadata": {
  "kernelspec": {
   "display_name": "Python [Root]",
   "language": "python",
   "name": "Python [Root]"
  },
  "language_info": {
   "codemirror_mode": {
    "name": "ipython",
    "version": 3
   },
   "file_extension": ".py",
   "mimetype": "text/x-python",
   "name": "python",
   "nbconvert_exporter": "python",
   "pygments_lexer": "ipython3",
   "version": "3.5.2"
  }
 },
 "nbformat": 4,
 "nbformat_minor": 0
}
