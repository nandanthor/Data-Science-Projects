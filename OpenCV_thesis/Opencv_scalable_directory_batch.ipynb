{
 "cells": [
  {
   "cell_type": "code",
   "execution_count": 1,
   "metadata": {
    "collapsed": false
   },
   "outputs": [
    {
     "name": "stdout",
     "output_type": "stream",
     "text": [
      "26.2374641685\n"
     ]
    }
   ],
   "source": [
    "#scalable batch processing for hue extraction from all files in dir\n",
    "\n",
    "#imports\n",
    "import cv2\n",
    "import numpy as np\n",
    "import matplotlib.pyplot as plt\n",
    "import os\n",
    "from os import listdir\n",
    "\n",
    "#find files in cd\n",
    "files = os.listdir('.')\n",
    "for i in range(len(files)):\n",
    "    pass\n",
    "\n",
    "#function to find avg hue\n",
    "def banana_hue(image):\n",
    "    \n",
    "    #banana haar cascade - taken from mrnugget\n",
    "    banana_cascade = cv2.CascadeClassifier('banana_classifier.xml')\n",
    "    \n",
    "    #read in image\n",
    "    old_img = cv2.imread(image, cv2.IMREAD_COLOR)\n",
    "    img = cv2.resize(old_img, (0,0), fx=0.2, fy=0.2)\n",
    "    gray = cv2.cvtColor(img, cv2.COLOR_BGR2GRAY)\n",
    "    \n",
    "    #find banana in image\n",
    "    bans = banana_cascade.detectMultiScale(img, minSize = (3,3))\n",
    "    \n",
    "    #use only first banana found\n",
    "    bans = bans[0]\n",
    "    x = bans[0]\n",
    "    y = bans[1]\n",
    "    w = bans[2]\n",
    "    h = bans[3]\n",
    "#for (x, y, w, h) in bans:\n",
    "#    cv2.rectangle(img, (x,y), (x+w, y+h), (0,0,0), 2)\n",
    "#    roi_gray = gray[y:y+h, x:x+w]\n",
    "#    roi_color = img[y:y+h, x:x+w]\n",
    "    hsv = cv2.cvtColor(img, cv2.COLOR_BGR2HSV)\n",
    "    roi = hsv[x:x+w, y:y+h]\n",
    "   \n",
    "\n",
    "    #find avg hue\n",
    "    temp = []\n",
    "    for list in roi:\n",
    "        for number in list:\n",
    "            for x in number:\n",
    "                temp.append(x)\n",
    "                \n",
    "    hues = []\n",
    "    for i in range(0, len(temp),3):\n",
    "        if temp[i] > 5 and temp[i] < 50:\n",
    "            hues.append(temp[i])\n",
    "    print(sum(hues) / len(hues))\n",
    "    \n",
    "#cv2.startWindowThread()\n",
    "#cv2.imshow('image', roi)\n",
    "\n",
    "\n",
    "#cv2.waitKey(3000)\n",
    "\n",
    "#cv2.waitKey(1)\n",
    "#cv2.destroyAllWindows()\n",
    "#cv2.waitKey(1)\n",
    "    \n",
    "\n",
    "#Run on unripe banana: the first day of the 21st banana\n",
    "banana_hue('1-21.jpg')"
   ]
  },
  {
   "cell_type": "code",
   "execution_count": 2,
   "metadata": {
    "collapsed": false
   },
   "outputs": [
    {
     "name": "stdout",
     "output_type": "stream",
     "text": [
      "16.7241000275\n"
     ]
    }
   ],
   "source": [
    "#We have a hue of 26, this is in the standard range for green hue\n",
    "\n",
    "#Now lets run it on a ripe banana: the third banana on the seventh day\n",
    "banana_hue('7-3.jpg')"
   ]
  },
  {
   "cell_type": "code",
   "execution_count": 6,
   "metadata": {
    "collapsed": false
   },
   "outputs": [
    {
     "name": "stdout",
     "output_type": "stream",
     "text": [
      "24.7654635717\n"
     ]
    }
   ],
   "source": [
    "#We can see that hue decreases to the yellow color range as it ripens\n",
    "\n",
    "#Lets sanity check on another unripe banana: day 1 of banana 29\n",
    "\n",
    "banana_hue('1-29.jpg')\n"
   ]
  },
  {
   "cell_type": "code",
   "execution_count": null,
   "metadata": {
    "collapsed": true
   },
   "outputs": [],
   "source": []
  }
 ],
 "metadata": {
  "anaconda-cloud": {},
  "kernelspec": {
   "display_name": "Python [Root]",
   "language": "python",
   "name": "Python [Root]"
  },
  "language_info": {
   "codemirror_mode": {
    "name": "ipython",
    "version": 3
   },
   "file_extension": ".py",
   "mimetype": "text/x-python",
   "name": "python",
   "nbconvert_exporter": "python",
   "pygments_lexer": "ipython3",
   "version": "3.5.2"
  }
 },
 "nbformat": 4,
 "nbformat_minor": 0
}
