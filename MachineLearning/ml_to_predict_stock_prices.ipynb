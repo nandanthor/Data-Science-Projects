{
 "cells": [
  {
   "cell_type": "code",
   "execution_count": 4,
   "metadata": {
    "collapsed": false
   },
   "outputs": [
    {
     "data": {
      "image/png": "[encoded data removed]",
      "text/plain": [
       "<matplotlib.figure.Figure at 0x116a5c358>"
      ]
     },
     "metadata": {},
     "output_type": "display_data"
    }
   ],
   "source": [
    "# -*- coding: utf-8 -*-\n",
    "\"\"\"\n",
    "Created on Tue Jan 24 16:43:20 2017\n",
    "\n",
    "@author: nandanthor\n",
    "\"\"\"\n",
    "\n",
    "# We are going to build a machine learning model to try to predict stock prices\n",
    "\n",
    "#Imports - we'll use quandl for the stock data\n",
    "import quandl\n",
    "import pandas as pd\n",
    "import numpy as np\n",
    "import matplotlib.pyplot as plt\n",
    "from sklearn.ensemble import BaggingRegressor\n",
    "\n",
    "# List of ticker symbols we want to predict\n",
    "tickers = ['WIKI/BAC', 'WIKI/RAD', 'WIKI/GE', 'WIKI/F']\n",
    "\n",
    "#Instantiate empty list of predictors\n",
    "predicts = []\n",
    "\n",
    "#Start for loop\n",
    "for i in range(len(tickers)):\n",
    "    #Get historical data\n",
    "    data = quandl.get(tickers[i], authtoken='TBRdSMHYKwL7HbrVKxT3', trim_start='2010-01-01', collapse='weekly')\n",
    "    #Get test data\n",
    "    data_test = quandl.get(tickers[i], authtoken='TBRdSMHYKwL7HbrVKxT3', trim_start='2017-01-24')\n",
    "    data.append(data_test)\n",
    "\n",
    "    price = data['Adj. Close']\n",
    "    \n",
    "    #Compute daily returns\n",
    "    daily_ret = (price / price.shift(1))-1\n",
    "    \n",
    "    #Compute rolling mean and rolling standard deviation (for Bollinger Bands)\n",
    "    rm = price.rolling(center=False, window = 20).mean()\n",
    "    sd = price.rolling(center=False, window = 20).std()\n",
    "    \n",
    "    #Build dataframe\n",
    "    df = pd.concat([price, daily_ret, rm, sd], axis = 1)\n",
    "    df.columns.values[0]='Price'\n",
    "    df.columns.values[1]='Daily Ret'\n",
    "    df.columns.values[2]='Roll Mean'\n",
    "    df.columns.values[3]='Roll Std'\n",
    "    \n",
    "    #For loop for bollinger bands\n",
    "    bb = []\n",
    "    for i in range(len(df)):\n",
    "        up_ran = df['Roll Mean'][i] + (2 * df['Roll Std'][i])\n",
    "        low_ran = df['Roll Mean'][i] - (2 * df['Roll Std'][i])\n",
    "        if df['Price'][i] >= up_ran and df['Price'][i] >= low_ran:\n",
    "            bb.append(0)\n",
    "        else:\n",
    "            bb.append(1)\n",
    "    bollb = pd.Series(bb)\n",
    "    df['Boll Bonds'] = bollb.values\n",
    "    \n",
    "    #Now compute Sharpe Ratio\n",
    "    ##Assume risk-free rate is 2.4%\n",
    "    sr = (df['Daily Ret'] - .024) / df['Roll Std']\n",
    "    df1 = pd.concat([df, sr], axis = 1)\n",
    "    df1.columns.values[5]='Sharpe Ratio'\n",
    "    \n",
    "    #Cut out NaNs - we use a 20 period window for our rolling statistics, so we cut out the first 20 data points\n",
    "    df2 = df1.ix[20:]\n",
    "    \n",
    "################################################################################################\n",
    "    \n",
    "    #Build our X and y for machine learning\n",
    "    y = df2['Daily Ret'][:-1]\n",
    "    X = df2.drop(['Price', 'Daily Ret'], 1)[:-1]\n",
    "\n",
    "    X_train = X[:-1]\n",
    "    y_train = y[1:]\n",
    "\n",
    "    X_test = X.ix[-1:]\n",
    "    \n",
    "    #Build regressor\n",
    "    clf = BaggingRegressor()\n",
    "    clf.fit(X_train,y_train)\n",
    "    preds = clf.predict(X_test)\n",
    "#    print(preds)\n",
    "\n",
    "    predicts.append(preds)\n",
    "\n",
    "outs = list(zip(tickers, predicts))\n",
    "#print(outs)\n",
    "%matplotlib inline\n",
    "#Plot our results!\n",
    "y_pos= np.arange(len(tickers))\n",
    "plt.barh(y_pos, predicts, align='center', alpha=0.4)\n",
    "plt.yticks(y_pos, tickers)\n",
    "plt.show()\n"
   ]
  },
  {
   "cell_type": "code",
   "execution_count": null,
   "metadata": {
    "collapsed": true
   },
   "outputs": [],
   "source": [
    "# So we predict Ford, GE, and Bank of America to increase, and Rite Aid to decrease.  If we look at Jan. 25, 2017 \n",
    "#stock data, the predictions were correct. F = +.18, GE = +.37, BAC = +.42, RAD = -.05"
   ]
  }
 ],
 "metadata": {
  "anaconda-cloud": {},
  "kernelspec": {
   "display_name": "Python [Root]",
   "language": "python",
   "name": "Python [Root]"
  },
  "language_info": {
   "codemirror_mode": {
    "name": "ipython",
    "version": 3
   },
   "file_extension": ".py",
   "mimetype": "text/x-python",
   "name": "python",
   "nbconvert_exporter": "python",
   "pygments_lexer": "ipython3",
   "version": "3.5.2"
  }
 },
 "nbformat": 4,
 "nbformat_minor": 0
}
