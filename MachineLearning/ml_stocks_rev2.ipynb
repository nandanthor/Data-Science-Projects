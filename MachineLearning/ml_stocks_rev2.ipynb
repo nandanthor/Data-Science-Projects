{
 "cells": [
  {
   "cell_type": "code",
   "execution_count": 1,
   "metadata": {
    "collapsed": false
   },
   "outputs": [
    {
     "name": "stdout",
     "output_type": "stream",
     "text": [
      "[ 0.00276754]\n",
      "[ 0.00253493]\n",
      "[ 0.0312284]\n",
      "[ 0.00620286]\n",
      "[-0.00096796]\n",
      "[-0.00550329]\n",
      "[-0.00227615]\n",
      "[ 0.04754609]\n",
      "[ 0.00821614]\n",
      "[-0.00557629]\n",
      "[ 0.00031565]\n",
      "[('WIKI/BAC', array([ 0.00276754])), ('WIKI/F', array([ 0.00253493])), ('WIKI/MTW', array([ 0.0312284])), ('WIKI/KR', array([ 0.00620286])), ('WIKI/WMT', array([-0.00096796])), ('WIKI/WFM', array([-0.00550329])), ('WIKI/UNFI', array([-0.00227615])), ('WIKI/BA', array([ 0.04754609])), ('WIKI/GS', array([ 0.00821614])), ('WIKI/IBM', array([-0.00557629])), ('WIKI/DIS', array([ 0.00031565]))]\n"
     ]
    },
    {
     "data": {
      "image/png": "[encoded data removed]",
      "text/plain": [
       "<matplotlib.figure.Figure at 0x104450b00>"
      ]
     },
     "metadata": {},
     "output_type": "display_data"
    }
   ],
   "source": [
    "# -*- coding: utf-8 -*-\n",
    "\"\"\"\n",
    "Created on Tue Jan 24 16:43:20 2017\n",
    "\n",
    "@author: nandanthor\n",
    "\"\"\"\n",
    "\n",
    "import quandl\n",
    "import pandas as pd\n",
    "import numpy as np\n",
    "import matplotlib.pyplot as plt\n",
    "from sklearn.svm import NuSVR\n",
    "\n",
    "\n",
    "tickers = ['WIKI/BAC', 'WIKI/F', 'WIKI/MTW', 'WIKI/KR', 'WIKI/WMT', 'WIKI/WFM','WIKI/UNFI', 'WIKI/BA', 'WIKI/GS', 'WIKI/IBM', 'WIKI/DIS']\n",
    "\n",
    "predicts = []\n",
    "\n",
    "for i in range(len(tickers)):\n",
    "    data = quandl.get(tickers[i], authtoken='TBRdSMHYKwL7HbrVKxT3', trim_start='2010-01-01', trim_end = '2017-01-25', collapse='daily')\n",
    "#    data_test = quandl.get(tickers[i], authtoken='TBRdSMHYKwL7HbrVKxT3', trim_start='2017-01-25', trim_end = '2017-01-25')\n",
    "#    data.append(data_test)\n",
    "    price = data['Adj. Close']\n",
    "    daily_ret = (price / price.shift(1))-1\n",
    "    \n",
    "    rm = price.rolling(center=False, window = 20).mean()\n",
    "    sd = price.rolling(center=False, window = 20).std()\n",
    "    df = pd.concat([price, daily_ret, rm, sd], axis = 1)\n",
    "    df.columns.values[0]='Price'\n",
    "    df.columns.values[1]='Daily Ret'\n",
    "    df.columns.values[2]='Roll Mean'\n",
    "    df.columns.values[3]='Roll Std'\n",
    "    \n",
    "    bb = []\n",
    "    for i in range(len(df)):\n",
    "        up_ran = df['Roll Mean'][i] + (2 * df['Roll Std'][i])\n",
    "        low_ran = df['Roll Mean'][i] - (2 * df['Roll Std'][i])\n",
    "        if df['Price'][i] >= up_ran and df['Price'][i] >= low_ran:\n",
    "            bb.append(0)\n",
    "        else:\n",
    "            bb.append(1)\n",
    "    bollb = pd.Series(bb)\n",
    "    df['Boll Bonds'] = bollb.values\n",
    "#    ##Assume risk-free rate is 2.4%\n",
    "    sr = (df['Daily Ret'] - .024) / df['Roll Std']\n",
    "    df1 = pd.concat([df, sr], axis = 1)\n",
    "    df1.columns.values[5]='Sharpe Ratio'\n",
    "    df2 = df1.ix[20:]\n",
    "    y = df2['Daily Ret']\n",
    "    X = df2.drop(['Price', 'Daily Ret'], 1)\n",
    "\n",
    "#################################\n",
    "#\n",
    "    X_train = X[:-1]\n",
    "    y_train = y[1:]\n",
    "\n",
    "    X_test = X.ix[-1:]\n",
    "#    print(X_test)\n",
    "    clf = NuSVR()\n",
    "    clf.fit(X_train,y_train)\n",
    "    preds = clf.predict(X_test)\n",
    "    print(preds)\n",
    "\n",
    "    predicts.append(preds)\n",
    "\n",
    "outs = list(zip(tickers, predicts))\n",
    "print(outs)\n",
    "\n",
    "%matplotlib inline\n",
    "\n",
    "y_pos= np.arange(len(tickers))\n",
    "plt.barh(y_pos, predicts, align='center', alpha=0.4)\n",
    "plt.yticks(y_pos, tickers)\n",
    "plt.show()\n"
   ]
  },
  {
   "cell_type": "code",
   "execution_count": null,
   "metadata": {
    "collapsed": true
   },
   "outputs": [],
   "source": []
  }
 ],
 "metadata": {
  "anaconda-cloud": {},
  "kernelspec": {
   "display_name": "Python [Root]",
   "language": "python",
   "name": "Python [Root]"
  },
  "language_info": {
   "codemirror_mode": {
    "name": "ipython",
    "version": 3
   },
   "file_extension": ".py",
   "mimetype": "text/x-python",
   "name": "python",
   "nbconvert_exporter": "python",
   "pygments_lexer": "ipython3",
   "version": "3.5.2"
  }
 },
 "nbformat": 4,
 "nbformat_minor": 0
}
