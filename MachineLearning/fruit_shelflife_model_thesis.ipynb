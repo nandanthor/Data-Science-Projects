{
 "cells": [
  {
   "cell_type": "code",
   "execution_count": 6,
   "metadata": {
    "collapsed": false
   },
   "outputs": [
    {
     "name": "stdout",
     "output_type": "stream",
     "text": [
      "0    b'0'\n",
      "1    b'1'\n",
      "2    b'2'\n",
      "3    b'3'\n",
      "4    b'4'\n",
      "Name: Shelf-Life, dtype: bytes48\n"
     ]
    }
   ],
   "source": [
    "import numpy as np\n",
    "import pandas as pd\n",
    "#from sklearn import decomposition\n",
    "from sklearn.cross_validation import train_test_split\n",
    "from sklearn.metrics import accuracy_score\n",
    "from sklearn.ensemble import RandomForestClassifier\n",
    "\n",
    "\n",
    "data = pd.read_excel('clustering_thesis_data.xlsx')\n",
    "\n",
    "y = data['Shelf-Life'].astype('|S6')\n",
    "\n",
    "print(y.head(5))\n",
    "\n",
    "#Lets look at our 'y': shelf-life"
   ]
  },
  {
   "cell_type": "code",
   "execution_count": 7,
   "metadata": {
    "collapsed": false
   },
   "outputs": [
    {
     "name": "stdout",
     "output_type": "stream",
     "text": [
      "   Hue Avg  Hue Min  Hue Max    %G     %Y     %B    a  a Min  a Max\n",
      "0     23.2        8       29  0.00  45.60  73.93  4.7  -5.67  15.32\n",
      "1     24.5       10       29  0.00  58.54  54.00  3.7  -1.70  15.12\n",
      "2     26.2       16       30  0.04  86.64  20.56  2.1  -1.80  13.50\n",
      "3     27.1       12       30  0.21  98.44   4.47  1.2  -1.20  16.60\n",
      "4     27.3       17       31  0.10  99.82   0.63  1.0  -1.60   8.00\n"
     ]
    }
   ],
   "source": [
    "data.drop(['Shelf-Life'], axis = 1, inplace = True)\n",
    "X = data\n",
    "\n",
    "print(X.head(5))\n",
    "\n",
    "#And our X:"
   ]
  },
  {
   "cell_type": "code",
   "execution_count": 3,
   "metadata": {
    "collapsed": false
   },
   "outputs": [
    {
     "name": "stdout",
     "output_type": "stream",
     "text": [
      "0.513888888889\n"
     ]
    }
   ],
   "source": [
    "#Split into X and y training and testing data sets\n",
    "X_train, X_test, y_train, y_test = train_test_split(X,y)\n",
    "\n",
    "#Build our model\n",
    "model = RandomForestClassifier()\n",
    "model.fit(X_train, y_train)\n",
    "\n",
    "predicted = model.predict(X_test)\n",
    "#pred = np.around(predicted)\n",
    "#p = pred.astype('|S6')\n",
    "#yy = y_test.as_matrix()\n",
    "#print(p)\n",
    "#print(yy)\n",
    "acc = accuracy_score(predicted, y_test)\n",
    "print(acc)\n"
   ]
  },
  {
   "cell_type": "code",
   "execution_count": null,
   "metadata": {
    "collapsed": true
   },
   "outputs": [],
   "source": [
    "#Predicting fruit shelf-life at an accuracy of 52% - we could cut food waste in half!"
   ]
  }
 ],
 "metadata": {
  "anaconda-cloud": {},
  "kernelspec": {
   "display_name": "Python [Root]",
   "language": "python",
   "name": "Python [Root]"
  },
  "language_info": {
   "codemirror_mode": {
    "name": "ipython",
    "version": 3
   },
   "file_extension": ".py",
   "mimetype": "text/x-python",
   "name": "python",
   "nbconvert_exporter": "python",
   "pygments_lexer": "ipython3",
   "version": "3.5.2"
  }
 },
 "nbformat": 4,
 "nbformat_minor": 0
}
