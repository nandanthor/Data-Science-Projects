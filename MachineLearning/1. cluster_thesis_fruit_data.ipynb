{
 "cells": [
  {
   "cell_type": "code",
   "execution_count": 1,
   "metadata": {
    "collapsed": false
   },
   "outputs": [
    {
     "name": "stdout",
     "output_type": "stream",
     "text": [
      "   Hue Avg  Hue Min  Hue Max    %G     %Y     %B    a  a Min  a Max\n",
      "0     23.2        8       29  0.00  45.60  73.93  4.7  -5.67  15.32\n",
      "1     24.5       10       29  0.00  58.54  54.00  3.7  -1.70  15.12\n",
      "2     26.2       16       30  0.04  86.64  20.56  2.1  -1.80  13.50\n",
      "3     27.1       12       30  0.21  98.44   4.47  1.2  -1.20  16.60\n",
      "4     27.3       17       31  0.10  99.82   0.63  1.0  -1.60   8.00\n"
     ]
    }
   ],
   "source": [
    "#Let's take some of my thesis data and cluster it. I have used computer vision to extract color features for bananas.\n", 
    "#The problem we are fundamentally trying to solve is to distinguish the subjective 'unripe', 'ripe', and 'spoiled' \n",
    "#states for bananas\n",
    "\n",
    "import numpy as np\n",
    "import pandas as pd\n",
    "#from sklearn import decomposition\n",
    "from sklearn.cluster import KMeans\n",
    "import matplotlib.pyplot as plt\n",
    "from sklearn.metrics.pairwise import pairwise_distances_argmin\n",
    "\n",
    "#Read in data\n",
    "data = pd.read_excel('clustering_thesis_data.xlsx')\n",
    "\n",
    "#Drop the 'y' column - let's do this unsupervised\n",
    "data.drop('Shelf-Life', axis = 1, inplace = True)\n",
    "\n",
    "print(data.head(5))\n"
   ]
  },
  {
   "cell_type": "code",
   "execution_count": 2,
   "metadata": {
    "collapsed": false
   },
   "outputs": [
    {
     "name": "stdout",
     "output_type": "stream",
     "text": [
      "[[ 24.5    0.     3.7 ]\n",
      " [ 26.2    0.04   2.1 ]\n",
      " [ 27.1    0.21   1.2 ]\n",
      " [ 27.3    0.1    1.  ]]\n"
     ]
    }
   ],
   "source": [
    "#Previous thesis work showed that these three features are the best indicators of shelf-life\n",
    "x = data[['Hue Avg', '%G',  'a']]\n",
    "X = x.as_matrix()\n",
    "print(X[1:5, :])"
   ]
  },
  {
   "cell_type": "code",
   "execution_count": 9,
   "metadata": {
    "collapsed": false
   },
   "outputs": [
    {
     "name": "stdout",
     "output_type": "stream",
     "text": [
      "[[ 25.57282609   2.46178261  -5.5525    ]\n",
      " [ 29.68636364  43.99954545  -0.94545455]\n",
      " [ 36.437625    97.233875     2.4951087 ]]\n"
     ]
    },
    {
     "data": {
      "text/plain": [
       "<matplotlib.figure.Figure at 0x11c925c18>"
      ]
     },
     "metadata": {},
     "output_type": "display_data"
    }
   ],
   "source": [
    "#Let's cluster!\n",
    "#We know we want three states ('ripe', 'unripe', and 'spoiled')\n",
    "\n",
    "nclusters = 3\n",
    "km = KMeans(init = 'k-means++', n_clusters = 3)\n",
    "km.fit(X)\n",
    "\n",
    "fig = plt.figure(figsize=(8, 3))\n",
    "#fig.subplots_adjust(left=0.02, right=0.98, bottom=0.05, top=0.9)\n",
    "colors = ['#4E9A06', '#FF9C34', '#8B4513']\n",
    "\n",
    "# We want to have the same colors for the same cluster from the\n",
    "# MiniBatchKMeans and the KMeans algorithm. Let's pair the cluster centers per\n",
    "# closest one.\n",
    "k_means_cluster_centers = np.sort(km.cluster_centers_, axis=0)\n",
    "print(k_means_cluster_centers)\n",
    "k_means_labels = pairwise_distances_argmin(X, k_means_cluster_centers)"
   ]
  },
  {
   "cell_type": "code",
   "execution_count": 10,
   "metadata": {
    "collapsed": false
   },
   "outputs": [
    {
     "data": {
      "image/png": "[encoded data removed]",
      "text/plain": [
       "<matplotlib.figure.Figure at 0x11b0ca470>"
      ]
     },
     "metadata": {},
     "output_type": "display_data"
    }
   ],
   "source": [
    "#Let's visualize our clusters\n",
    "%matplotlib inline\n",
    "#ax = fig.add_subplot(1, 1, 1)\n",
    "for k, col in zip(range(nclusters+1), colors):\n",
    "    my_members = k_means_labels == k\n",
    "    cluster_center = k_means_cluster_centers[k]\n",
    "    plt.plot(X[my_members, 0], X[my_members, 1], 'w',\n",
    "            markerfacecolor=col, marker='.')\n",
    "    plt.plot(cluster_center[0], cluster_center[1], 'o', markerfacecolor=col,\n",
    "            markeredgecolor='k', markersize=6)\n"
   ]
  },
  {
   "cell_type": "code",
   "execution_count": null,
   "metadata": {
    "collapsed": true
   },
   "outputs": [],
   "source": [
    "#Great! We have clustered the data to the three states we want"
   ]
  }
 ],
 "metadata": {
  "anaconda-cloud": {},
  "kernelspec": {
   "display_name": "Python [Root]",
   "language": "python",
   "name": "Python [Root]"
  },
  "language_info": {
   "codemirror_mode": {
    "name": "ipython",
    "version": 3
   },
   "file_extension": ".py",
   "mimetype": "text/x-python",
   "name": "python",
   "nbconvert_exporter": "python",
   "pygments_lexer": "ipython3",
   "version": "3.5.2"
  }
 },
 "nbformat": 4,
 "nbformat_minor": 0
}
