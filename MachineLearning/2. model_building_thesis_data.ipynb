{
 "cells": [
  {
   "cell_type": "code",
   "execution_count": 4,
   "metadata": {
    "collapsed": false
   },
   "outputs": [
    {
     "name": "stdout",
     "output_type": "stream",
     "text": [
      "   Hue Avg  Hue Min  Hue Max    %G     %Y     %B    a  a Min  a Max\n",
      "0     23.2        8       29  0.00  45.60  73.93  4.7  -5.67  15.32\n",
      "1     24.5       10       29  0.00  58.54  54.00  3.7  -1.70  15.12\n",
      "2     26.2       16       30  0.04  86.64  20.56  2.1  -1.80  13.50\n",
      "3     27.1       12       30  0.21  98.44   4.47  1.2  -1.20  16.60\n",
      "4     27.3       17       31  0.10  99.82   0.63  1.0  -1.60   8.00\n",
      "0    b'0'\n",
      "1    b'1'\n",
      "2    b'2'\n",
      "3    b'3'\n",
      "4    b'4'\n",
      "Name: Shelf-Life, dtype: bytes48\n"
     ]
    }
   ],
   "source": [
    "# -*- coding: utf-8 -*-\n",
    "\"\"\"\n",
    "Created on Fri Jan 13 10:43:07 2017\n",
    "\n",
    "@author: nandanthor\n",
    "\"\"\"\n",
    "\n",
    "#Now that we clustered our data into states, we are going to build a model to predict shelf-life\n",
    "\n",
    "\n",
    "import numpy as np\n",
    "import pandas as pd\n",
    "#from sklearn import decomposition\n",
    "from sklearn.cross_validation import train_test_split\n",
    "from sklearn.metrics import accuracy_score\n",
    "from sklearn.neighbors import KNeighborsClassifier\n",
    "from sklearn.svm import SVC\n",
    "from sklearn.gaussian_process import GaussianProcessClassifier\n",
    "from sklearn.gaussian_process.kernels import RBF\n",
    "from sklearn.tree import DecisionTreeClassifier\n",
    "from sklearn.ensemble import RandomForestClassifier, AdaBoostClassifier\n",
    "from sklearn.naive_bayes import GaussianNB\n",
    "import matplotlib.pyplot as plt\n",
    "\n",
    "plt.style.use('ggplot')\n",
    "\n",
    "#Read in data\n",
    "data = pd.read_excel('clustering_thesis_data.xlsx')\n",
    "\n",
    "#Define y\n",
    "y = data['Shelf-Life'].astype('|S6')\n",
    "\n",
    "#Define X\n",
    "data.drop(['Shelf-Life'], axis = 1, inplace = True)\n",
    "X = data\n",
    "\n",
    "print(X.head(5))\n",
    "\n",
    "print(y.head(5))"
   ]
  },
  {
   "cell_type": "code",
   "execution_count": 7,
   "metadata": {
    "collapsed": true
   },
   "outputs": [],
   "source": [
    "#Split data into training and testing\n",
    "X_train, X_test, y_train, y_test = train_test_split(X,y)\n",
    "\n",
    "accur = []\n",
    "\n",
    "#Define models we want to test\n",
    "models = [KNeighborsClassifier, SVC, GaussianProcessClassifier, DecisionTreeClassifier, RandomForestClassifier, AdaBoostClassifier, GaussianNB]\n",
    "\n",
    "model_names = ['KNeighborsClassifier', 'SVC', 'GaussianProcessClassifier', 'DecisionTreeClassifier', 'RandomForestClassifier', 'AdaBoostClassifier', 'GaussianNB']\n",
    "\n",
    "#Test each model\n",
    "for i in range(len(models)):\n",
    "    model = models[i]()\n",
    "    model.fit(X_train, y_train)\n",
    "    predicted = model.predict(X_test)\n",
    "    acc = accuracy_score(predicted, y_test)\n",
    "    accur.append(acc)\n"
   ]
  },
  {
   "cell_type": "code",
   "execution_count": 8,
   "metadata": {
    "collapsed": false
   },
   "outputs": [
    {
     "name": "stdout",
     "output_type": "stream",
     "text": [
      "[('RandomForestClassifier', 0.44444444444444442), ('KNeighborsClassifier', 0.3888888888888889), ('GaussianNB', 0.375), ('DecisionTreeClassifier', 0.34722222222222221), ('GaussianProcessClassifier', 0.33333333333333331), ('SVC', 0.18055555555555555), ('AdaBoostClassifier', 0.125)]\n"
     ]
    },
    {
     "data": {
      "image/png": "[encoded data removed]",
      "text/plain": [
       "<matplotlib.figure.Figure at 0x1133b4470>"
      ]
     },
     "metadata": {},
     "output_type": "display_data"
    }
   ],
   "source": [
    "#Store results\n",
    "accur_scores = list(zip(model_names, accur))\n",
    "accur_scores.sort(key = lambda x: (x[1]), reverse = True)\n",
    "\n",
    "print(accur_scores)\n",
    "%matplotlib inline\n",
    "y_pos = np.arange(len(model_names))\n",
    "plt.barh(y_pos, accur, align='center', alpha = 0.5)\n",
    "plt.yticks(y_pos, model_names)\n",
    "plt.xlabel('Accuracy')\n",
    "plt.title('Comparison of Classifiers')\n",
    "plt.show()"
   ]
  },
  {
   "cell_type": "code",
   "execution_count": null,
   "metadata": {
    "collapsed": true
   },
   "outputs": [],
   "source": [
    "#We have models that can predict shelf-life of bananas at about 50% accuracy"
   ]
  }
 ],
 "metadata": {
  "kernelspec": {
   "display_name": "Python [Root]",
   "language": "python",
   "name": "Python [Root]"
  },
  "language_info": {
   "codemirror_mode": {
    "name": "ipython",
    "version": 3
   },
   "file_extension": ".py",
   "mimetype": "text/x-python",
   "name": "python",
   "nbconvert_exporter": "python",
   "pygments_lexer": "ipython3",
   "version": "3.5.2"
  }
 },
 "nbformat": 4,
 "nbformat_minor": 0
}
