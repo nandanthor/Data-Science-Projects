{
 "cells": [
  {
   "cell_type": "code",
   "execution_count": 5,
   "metadata": {
    "collapsed": false
   },
   "outputs": [
    {
     "name": "stdout",
     "output_type": "stream",
     "text": [
      "[         0          1          1          2          3          5\n",
      "          8         13         21         34         55         89\n",
      "        144        233        377        610        987       1597\n",
      "       2584       4181       6765      10946      17711      28657\n",
      "      46368      75025     121393     196418     317811     514229\n",
      "     832040    1346269    2178309    3524578    5702887    9227465\n",
      "   14930352   24157817   39088169   63245986  102334155  165580141\n",
      "  267914296  433494437  701408733 1134903170 1836311903 2971215073\n",
      " 4807526976 7778742049]\n"
     ]
    }
   ],
   "source": [
    "n = 50\n",
    "\n",
    "import numpy as np\n",
    "\n",
    "def fib(n):\n",
    "    \n",
    "    #Assume n >= 2\n",
    "    outs = np.zeros((n), dtype = np.int)        \n",
    "    outs[1] = 1\n",
    "    xx = 2\n",
    "    \n",
    "    while xx <= n:\n",
    "        for i in range(2, n):\n",
    "            outs[i] = outs[i-1] + outs[i-2]\n",
    "            xx+=1\n",
    "    print(outs)\n",
    "\n",
    "fib(n)"
   ]
  },
  {
   "cell_type": "code",
   "execution_count": null,
   "metadata": {
    "collapsed": true
   },
   "outputs": [],
   "source": []
  }
 ],
 "metadata": {
  "anaconda-cloud": {},
  "kernelspec": {
   "display_name": "Python [Root]",
   "language": "python",
   "name": "Python [Root]"
  },
  "language_info": {
   "codemirror_mode": {
    "name": "ipython",
    "version": 3
   },
   "file_extension": ".py",
   "mimetype": "text/x-python",
   "name": "python",
   "nbconvert_exporter": "python",
   "pygments_lexer": "ipython3",
   "version": "3.5.2"
  }
 },
 "nbformat": 4,
 "nbformat_minor": 0
}
