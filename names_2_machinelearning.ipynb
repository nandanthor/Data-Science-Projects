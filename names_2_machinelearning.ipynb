{
 "cells": [
  {
   "cell_type": "code",
   "execution_count": 1,
   "metadata": {
    "collapsed": false
   },
   "outputs": [
    {
     "name": "stdout",
     "output_type": "stream",
     "text": [
      "0.407437577824\n",
      "0.592562422176\n"
     ]
    }
   ],
   "source": [
    "#Second part of names, using some machine learning code to see the relationship between names and gender\n",
    "\n",
    "#imports\n",
    "import pandas as pd\n",
    "from sklearn import preprocessing, cross_validation, metrics\n",
    "from sklearn.feature_extraction.text import CountVectorizer \n",
    "from sklearn.naive_bayes import MultinomialNB\n",
    "import matplotlib.pyplot as plt\n",
    "from matplotlib.pyplot import style\n",
    "\n",
    "style.use('ggplot')\n",
    "\n",
    "names = pd.read_csv('NationalNames.csv')\n",
    "\n",
    "#isolate 2014 data\n",
    "names_14 = names[names.Year == 2014]\n",
    "\n",
    "X = names_14.Name\n",
    "y = names_14.Gender\n",
    "\n",
    "men = names[names.Gender == 'M'].count()[0]\n",
    "women = names[names.Gender == 'F'].count()[0]\n",
    "tot = names.count()[0]\n",
    "\n",
    "#see our baseline data\n",
    "print(men/tot)\n",
    "print(women/tot)\n"
   ]
  },
  {
   "cell_type": "code",
   "execution_count": 2,
   "metadata": {
    "collapsed": false
   },
   "outputs": [
    {
     "name": "stdout",
     "output_type": "stream",
     "text": [
      "0.524391720131\n"
     ]
    }
   ],
   "source": [
    "#alright, slightly more women in the dataset.\n",
    "\n",
    "#Lets preprocess the data\n",
    "le = preprocessing.LabelEncoder()\n",
    "y_bin = le.fit_transform(y)\n",
    "\n",
    "#Split data into training and testing set\n",
    "X_train, X_test, y_train, y_test = cross_validation.train_test_split(X,y_bin)\n",
    "\n",
    "#Preprocess names data\n",
    "vect = CountVectorizer()\n",
    "X_train_dtm = vect.fit_transform(X_train)\n",
    "X_test_dtm = vect.transform(X_test)\n",
    "\n",
    "#Try multinomial naive bayes\n",
    "nb = MultinomialNB()\n",
    "nb.fit(X_train_dtm, y_train)\n",
    "y_pred_class = nb.predict(X_test_dtm)\n",
    "print(metrics.accuracy_score(y_test, y_pred_class))"
   ]
  },
  {
   "cell_type": "code",
   "execution_count": null,
   "metadata": {
    "collapsed": true
   },
   "outputs": [],
   "source": [
    "#Overall, in 2014, using name ot predict gender gives us about 50% accuracy"
   ]
  },
  {
   "cell_type": "code",
   "execution_count": 3,
   "metadata": {
    "collapsed": false
   },
   "outputs": [
    {
     "data": {
      "image/png": "[encoded data removed]",
      "text/plain": [
       "<matplotlib.figure.Figure at 0x109b7e0b8>"
      ]
     },
     "metadata": {},
     "output_type": "display_data"
    },
    {
     "name": "stdout",
     "output_type": "stream",
     "text": [
      "[(0.77486974068608261, 1940), (0.77324545778411113, 1941), (0.76769317074610999, 1942), (0.76901383625627917, 1943), (0.76280129166186139, 1944), (0.75819660436581537, 1945), (0.75869571440840511, 1946), (0.7585488273797294, 1947), (0.75935204254141953, 1948), (0.75436241610738253, 1949), (0.75764283193789494, 1950), (0.75615183246073303, 1951), (0.75314761574303557, 1952), (0.7504283842354601, 1953), (0.75038536995515692, 1954), (0.74834175899035527, 1955), (0.75130725013906918, 1956), (0.74900639691131388, 1957), (0.74842791411042942, 1958), (0.74704773627726273, 1959), (0.74411526755788415, 1960), (0.74929178470254953, 1961), (0.74836679413639262, 1962), (0.74883664468093714, 1963), (0.74136407624016498, 1964), (0.74930673584399321, 1965), (0.74825893900444029, 1966), (0.74878875968992253, 1967), (0.75053549190535496, 1968), (0.75342325247448583, 1969), (0.75010311404413277, 1970), (0.74973321815132887, 1971), (0.75038528716736874, 1972), (0.74782653428674317, 1973), (0.74950078822911192, 1974), (0.7503567116672154, 1975), (0.74332727973144019, 1976), (0.74813153961136025, 1977), (0.7454373634162188, 1978), (0.74624476729869493, 1979), (0.74760750287099653, 1980), (0.74390085647547366, 1981), (0.74614076399790685, 1982), (0.74507680855383362, 1983), (0.74441777583824276, 1984), (0.74675123762376239, 1985), (0.74457617549802402, 1986), (0.74061573921633195, 1987), (0.74246987951807231, 1988), (0.73575923834113277, 1989), (0.73084127371935825, 1990), (0.72558177646673216, 1991), (0.72267389340560073, 1992), (0.72041928721174009, 1993), (0.71658026684796461, 1994), (0.7163194444444444, 1995), (0.70835495588998443, 1996), (0.71048223574010405, 1997), (0.70869330453563717, 1998), (0.70705227625216682, 1999), (0.70568685376661744, 2000), (0.70464570624120126, 2001), (0.6978011472275335, 2002), (0.69981565926069667, 2003), (0.69645293315143242, 2004), (0.69408891060087929, 2005), (0.69195912070960275, 2006), (0.68896217664639803, 2007), (0.68808864265927983, 2008), (0.68188769936639715, 2009), (0.67754624707633426, 2010), (0.67603989813242782, 2011), (0.6711800968736239, 2012), (0.67180002231893765, 2013)]\n"
     ]
    }
   ],
   "source": [
    "#Let's see how well our new model does over the years\n",
    "\n",
    "predictions = []\n",
    "for i in list(reversed(range(1940, 2014))):\n",
    "    X_47 = names[names.Year == i].Name\n",
    "    y_47 = names[names.Year == i].Gender\n",
    "    le = preprocessing.LabelEncoder()\n",
    "    y_47_bin = le.fit_transform(y_47)\n",
    "    X_47_dtm = vect.transform(X_47)\n",
    "    y_pred_class = nb.predict(X_47_dtm)\n",
    "    predictions.append(metrics.accuracy_score(y_47_bin, y_pred_class))\n",
    "\n",
    "%matplotlib inline    \n",
    "plt.plot(list(reversed(range(1940, 2014))), predictions)\n",
    "plt.ylabel('Name Predicting Gender Accur')\n",
    "plt.show()\n",
    "\n",
    "print(list(zip(predictions, range(1940, 2014))))"
   ]
  },
  {
   "cell_type": "code",
   "execution_count": null,
   "metadata": {
    "collapsed": true
   },
   "outputs": [],
   "source": []
  }
 ],
 "metadata": {
  "anaconda-cloud": {},
  "kernelspec": {
   "display_name": "Python [Root]",
   "language": "python",
   "name": "Python [Root]"
  },
  "language_info": {
   "codemirror_mode": {
    "name": "ipython",
    "version": 3
   },
   "file_extension": ".py",
   "mimetype": "text/x-python",
   "name": "python",
   "nbconvert_exporter": "python",
   "pygments_lexer": "ipython3",
   "version": "3.5.2"
  }
 },
 "nbformat": 4,
 "nbformat_minor": 0
}
