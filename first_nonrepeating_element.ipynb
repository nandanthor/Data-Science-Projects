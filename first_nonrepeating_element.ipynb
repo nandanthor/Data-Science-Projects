{
 "cells": [
  {
   "cell_type": "code",
   "execution_count": 1,
   "metadata": {
    "collapsed": false
   },
   "outputs": [
    {
     "name": "stdout",
     "output_type": "stream",
     "text": [
      "b\n",
      "x\n"
     ]
    }
   ],
   "source": [
    "def return_first_nonrepeating_element(example_str):\n",
    "    ls = example_str[0]\n",
    "    rep=[]\n",
    "    for i in range(0,len(example_str)):\n",
    "        if example_str[i] not in ls:\n",
    "            rep.append(example_str[i])\n",
    "    rep = rep[0]\n",
    "    print(rep)\n",
    "\n",
    "    \n",
    "example_str = 'aaaaaaaaabcdefg'\n",
    "return_first_nonrepeating_element(example_str)\n",
    "\n",
    "example_str = 'zzxy'\n",
    "return_first_nonrepeating_element(example_str)"
   ]
  },
  {
   "cell_type": "code",
   "execution_count": null,
   "metadata": {
    "collapsed": true
   },
   "outputs": [],
   "source": []
  }
 ],
 "metadata": {
  "anaconda-cloud": {},
  "kernelspec": {
   "display_name": "Python [default]",
   "language": "python",
   "name": "python3"
  },
  "language_info": {
   "codemirror_mode": {
    "name": "ipython",
    "version": 3
   },
   "file_extension": ".py",
   "mimetype": "text/x-python",
   "name": "python",
   "nbconvert_exporter": "python",
   "pygments_lexer": "ipython3",
   "version": "3.5.2"
  }
 },
 "nbformat": 4,
 "nbformat_minor": 1
}
