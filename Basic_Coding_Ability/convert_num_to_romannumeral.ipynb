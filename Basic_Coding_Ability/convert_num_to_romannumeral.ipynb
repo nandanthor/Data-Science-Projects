{
 "cells": [
  {
   "cell_type": "code",
   "execution_count": 1,
   "metadata": {
    "collapsed": false
   },
   "outputs": [
    {
     "name": "stdout",
     "output_type": "stream",
     "text": [
      "MCMXCVI\n",
      "XXXVI\n"
     ]
    }
   ],
   "source": [
    "#Function to convert number to roman numerals\n",
    "\n",
    "#List of lists to map roman numeral to number\n",
    "key = [['I','IV','V', 'IX', 'X', 'XL', 'L', 'XC', 'C', 'CD', 'D', 'CM', 'M'],[1,4,5,9,10,40,50,90,100,400,500,900,1000]]\n",
    "\n",
    "\n",
    "def numtoroman(n):\n",
    "    #initialize\n",
    "    count = n\n",
    "    idx = []\n",
    "    while count > 0:\n",
    "        #Subtract current number from all numbers in second list of key\n",
    "        r = [x - count for x in key[1]]\n",
    "        #Find the largest number that can be subtracted out from the second list of key\n",
    "        num = max([i for i in r if i <= 0])\n",
    "        #Find the index\n",
    "        a = r.index(num)\n",
    "        idx.append(a)\n",
    "        #Update the count variable\n",
    "        count -= key[1][a] \n",
    "    #initialize\n",
    "    tmp = ''\n",
    "    #Create roman numeral representation\n",
    "    for i in range(0,len(idx)):\n",
    "        tmp += key[0][idx[i]]\n",
    "    print(tmp)\n",
    "\n",
    "    \n",
    "    \n",
    "#Choose the number you want to convert\n",
    "n = 1996\n",
    "\n",
    "numtoroman(n)    \n",
    "\n",
    "n = 36\n",
    "\n",
    "numtoroman(n)  "
   ]
  },
  {
   "cell_type": "code",
   "execution_count": null,
   "metadata": {
    "collapsed": true
   },
   "outputs": [],
   "source": []
  }
 ],
 "metadata": {
  "anaconda-cloud": {},
  "kernelspec": {
   "display_name": "Python [default]",
   "language": "python",
   "name": "python3"
  },
  "language_info": {
   "codemirror_mode": {
    "name": "ipython",
    "version": 3
   },
   "file_extension": ".py",
   "mimetype": "text/x-python",
   "name": "python",
   "nbconvert_exporter": "python",
   "pygments_lexer": "ipython3",
   "version": "3.5.2"
  }
 },
 "nbformat": 4,
 "nbformat_minor": 1
}
