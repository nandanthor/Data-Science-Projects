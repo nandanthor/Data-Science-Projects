{
 "cells": [
  {
   "cell_type": "code",
   "execution_count": 2,
   "metadata": {
    "collapsed": false
   },
   "outputs": [
    {
     "name": "stdout",
     "output_type": "stream",
     "text": [
      "The quick brown fox jumps over the lazy dog\n",
      "pangram\n"
     ]
    }
   ],
   "source": [
    "#Roy wanted to increase his typing speed for programming contests. So, his friend advised him to type the\n",
    "#sentence \"The quick brown fox jumps over the lazy dog\" repeatedly, because it is a pangram. \n",
    "#(Pangrams are sentences constructed by using every letter of the alphabet at least once.)\n",
    "\n",
    "#After typing the sentence several times, Roy became bored with it. So he started to look for other pangrams.\n",
    "\n",
    "#Given a sentence , tell Roy if it is a pangram or not.\n",
    "\n",
    "\n",
    "s = set(input().lower().replace(' ', ''))\n",
    "\n",
    "if len(s) == 26:\n",
    "    print('pangram')\n",
    "else:\n",
    "    print('not pangram')"
   ]
  },
  {
   "cell_type": "code",
   "execution_count": null,
   "metadata": {
    "collapsed": true
   },
   "outputs": [],
   "source": []
  }
 ],
 "metadata": {
  "anaconda-cloud": {},
  "kernelspec": {
   "display_name": "Python [Root]",
   "language": "python",
   "name": "Python [Root]"
  },
  "language_info": {
   "codemirror_mode": {
    "name": "ipython",
    "version": 3
   },
   "file_extension": ".py",
   "mimetype": "text/x-python",
   "name": "python",
   "nbconvert_exporter": "python",
   "pygments_lexer": "ipython3",
   "version": "3.5.2"
  }
 },
 "nbformat": 4,
 "nbformat_minor": 0
}
