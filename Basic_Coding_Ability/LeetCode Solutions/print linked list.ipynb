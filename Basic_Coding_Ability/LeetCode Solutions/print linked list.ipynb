{
 "cells": [
  {
   "cell_type": "code",
   "execution_count": null,
   "metadata": {
    "collapsed": true
   },
   "outputs": [],
   "source": [
    "#Given a pointer to the head node of a linked list, print its elements in order, one element per line. If the head pointer is null (indicating the list is empty), don’t print anything.\n",
    "\n",
    "\n",
    "\n",
    "\"\"\"\n",
    " Print elements of a linked list on console\n",
    " head input could be None as well for empty list\n",
    " Node is defined as\n",
    " \n",
    " class Node(object):\n",
    " \n",
    "   def __init__(self, data=None, next_node=None):\n",
    "       self.data = data\n",
    "       self.next = next_node\n",
    " \n",
    " \n",
    "\"\"\"\n",
    "def print_list(head):\n",
    "    while head:\n",
    "        print(head.data)\n",
    "        head = head.next"
   ]
  }
 ],
 "metadata": {
  "kernelspec": {
   "display_name": "Python [Root]",
   "language": "python",
   "name": "Python [Root]"
  },
  "language_info": {
   "codemirror_mode": {
    "name": "ipython",
    "version": 3
   },
   "file_extension": ".py",
   "mimetype": "text/x-python",
   "name": "python",
   "nbconvert_exporter": "python",
   "pygments_lexer": "ipython3",
   "version": "3.5.2"
  }
 },
 "nbformat": 4,
 "nbformat_minor": 0
}
