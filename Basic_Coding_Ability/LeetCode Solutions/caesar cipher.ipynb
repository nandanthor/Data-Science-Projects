{
 "cells": [
  {
   "cell_type": "code",
   "execution_count": 3,
   "metadata": {
    "collapsed": false
   },
   "outputs": [
    {
     "name": "stdout",
     "output_type": "stream",
     "text": [
      "11\n",
      "middle-Outz\n",
      "2\n",
      "okffng-Qwvb\n"
     ]
    }
   ],
   "source": [
    "#Julius Caesar protected his confidential information by encrypting it in a cipher. Caesar's cipher rotated every letter in a string by a fixed number, n, \n",
    "#making it unreadable by his enemies. Given a string, s, and a number, k, encrypt  and print the resulting string.\n",
    "#!/bin/python3\n",
    "\n",
    "import sys\n",
    "\n",
    "\n",
    "n = int(input().strip())\n",
    "s = input().strip()\n",
    "k = int(input().strip())\n",
    "S = ''\n",
    "for i in range(len(s)):\n",
    "    if s[i].isupper():\n",
    "        a = 65\n",
    "        S += chr(a+(ord(s[i])-a+k)%26)\n",
    "    elif s[i].islower():\n",
    "        a = 97\n",
    "        S += chr(a+(ord(s[i])-a+k)%26)\n",
    "    else:\n",
    "        a = 0\n",
    "        S += s[i]\n",
    "print(S)\n",
    "        "
   ]
  },
  {
   "cell_type": "code",
   "execution_count": null,
   "metadata": {
    "collapsed": true
   },
   "outputs": [],
   "source": []
  }
 ],
 "metadata": {
  "anaconda-cloud": {},
  "kernelspec": {
   "display_name": "Python [Root]",
   "language": "python",
   "name": "Python [Root]"
  },
  "language_info": {
   "codemirror_mode": {
    "name": "ipython",
    "version": 3
   },
   "file_extension": ".py",
   "mimetype": "text/x-python",
   "name": "python",
   "nbconvert_exporter": "python",
   "pygments_lexer": "ipython3",
   "version": "3.5.2"
  }
 },
 "nbformat": 4,
 "nbformat_minor": 0
}
