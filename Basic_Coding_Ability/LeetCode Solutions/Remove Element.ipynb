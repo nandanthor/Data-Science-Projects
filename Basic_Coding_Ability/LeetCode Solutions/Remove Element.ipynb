{
 "cells": [
  {
   "cell_type": "code",
   "execution_count": null,
   "metadata": {
    "collapsed": true
   },
   "outputs": [],
   "source": [
    "#Given an array and a value, remove all instances of that value in place and return the new length.\n",
    "\n",
    "#Do not allocate extra space for another array, you must do this in place with constant memory.\n",
    "\n",
    "#The order of elements can be changed. It doesn't matter what you leave beyond the new length.\n",
    "\n",
    "#Example: Given input array nums = [3,2,2,3], val = 3\n",
    "\n",
    "#Your function should return length = 2, with the first two elements of nums being 2.\n",
    "\n",
    "class Solution(object):\n",
    "    def removeElement(self, nums, val):\n",
    "        \"\"\"\n",
    "        :type nums: List[int]\n",
    "        :type val: int\n",
    "        :rtype: int\n",
    "        \"\"\"\n",
    "        for i in range(len(nums)-1, -1, -1):\n",
    "            if nums[i] == val:\n",
    "                nums.remove(nums[i])\n"
   ]
  }
 ],
 "metadata": {
  "anaconda-cloud": {},
  "kernelspec": {
   "display_name": "Python [Root]",
   "language": "python",
   "name": "Python [Root]"
  },
  "language_info": {
   "codemirror_mode": {
    "name": "ipython",
    "version": 3
   },
   "file_extension": ".py",
   "mimetype": "text/x-python",
   "name": "python",
   "nbconvert_exporter": "python",
   "pygments_lexer": "ipython3",
   "version": "3.5.2"
  }
 },
 "nbformat": 4,
 "nbformat_minor": 0
}
