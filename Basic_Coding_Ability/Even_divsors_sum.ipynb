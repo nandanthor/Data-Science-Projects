{
 "cells": [
  {
   "cell_type": "code",
   "execution_count": 19,
   "metadata": {
    "collapsed": false
   },
   "outputs": [
    {
     "name": "stdout",
     "output_type": "stream",
     "text": [
      "[32, 16, 35, 51, 68, 54, 78, 8, 23, 91, 25, 65, 5, 98, 14, 79, 90, 93, 9, 17]\n",
      "[1, 2, 4, 8, 16, 32, 1, 2, 4, 8, 16, 1, 5, 7, 35, 1, 3, 17, 51, 1, 2, 4, 17, 34, 68, 1, 2, 3, 6, 9, 18, 27, 54, 1, 2, 3, 6, 13, 26, 39, 78, 1, 2, 4, 8, 1, 23, 1, 7, 13, 91, 1, 5, 25, 1, 5, 13, 65, 1, 5, 1, 2, 7, 14, 49, 98, 1, 2, 7, 14, 1, 79, 1, 2, 3, 5, 6, 9, 10, 15, 18, 30, 45, 90, 1, 3, 31, 93, 1, 3, 9, 1, 17]\n",
      "[2, 4, 8, 16, 32, 2, 4, 8, 16, 2, 4, 34, 68, 2, 6, 18, 54, 2, 6, 26, 78, 2, 4, 8, 2, 14, 98, 2, 14, 2, 6, 10, 18, 30, 90]\n",
      "692\n"
     ]
    }
   ],
   "source": [
    "#Finds the sum of the even divisors of a given n array of numbers \n",
    "\n",
    "import random\n",
    "\n",
    "#Create 20 random numbers from 1 - 100\n",
    "rands = random.sample(range(1, 101), 20)\n",
    "n = rands\n",
    "print(n)\n",
    "\n",
    "lenn = len(n)\n",
    "\n",
    "divs = []\n",
    "\n",
    "#Find the divisors of the numbers in n\n",
    "for i in range(0, lenn):\n",
    "    for j in range(1, n[i]+1):\n",
    "        if n[i] % j == 0:\n",
    "            divs.append(j)       \n",
    "print(divs) \n",
    "\n",
    "#Find the even numbers in the list of divisors\n",
    "evendivs = []\n",
    "for k in range(0, len(divs)):\n",
    "    if divs[k] % 2 == 0:\n",
    "        evendivs.append(divs[k])\n",
    "print(evendivs)        \n",
    "\n",
    "#Sum all of the even elements\n",
    "even_divs_sum = sum(evendivs)\n",
    "print(even_divs_sum)\n",
    "\n"
   ]
  },
  {
   "cell_type": "code",
   "execution_count": null,
   "metadata": {
    "collapsed": true
   },
   "outputs": [],
   "source": []
  }
 ],
 "metadata": {
  "anaconda-cloud": {},
  "kernelspec": {
   "display_name": "Python [Root]",
   "language": "python",
   "name": "Python [Root]"
  },
  "language_info": {
   "codemirror_mode": {
    "name": "ipython",
    "version": 3
   },
   "file_extension": ".py",
   "mimetype": "text/x-python",
   "name": "python",
   "nbconvert_exporter": "python",
   "pygments_lexer": "ipython3",
   "version": "3.5.2"
  }
 },
 "nbformat": 4,
 "nbformat_minor": 0
}
